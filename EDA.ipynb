{
  "nbformat": 4,
  "nbformat_minor": 0,
  "metadata": {
    "colab": {
      "provenance": []
    },
    "kernelspec": {
      "name": "python3",
      "display_name": "Python 3"
    },
    "language_info": {
      "name": "python"
    }
  },
  "cells": [
    {
      "cell_type": "markdown",
      "source": [
        "Dependancies :\n",
        "\n",
        "\n"
      ],
      "metadata": {
        "id": "ZYWdLAmqcH-K"
      }
    },
    {
      "cell_type": "code",
      "source": [
        "#Computing\n",
        "import pandas as pd\n",
        "import numpy as np\n",
        "import seaborn as sns\n",
        "\n",
        "# Visualization\n",
        "import matplotlib.pyplot as plt\n",
        "import plotly.express as px\n",
        "import plotly.graph_objects as go"
      ],
      "metadata": {
        "id": "g8RpfGJpcfNR"
      },
      "execution_count": null,
      "outputs": []
    },
    {
      "cell_type": "markdown",
      "source": [
        "Importing all the csv files :"
      ],
      "metadata": {
        "id": "weUUmremchY0"
      }
    },
    {
      "cell_type": "code",
      "source": [
        "customers_df = pd.read_csv(\"/content/Customers.csv\")\n",
        "\n",
        "print(customers_df.head())\n",
        "\n",
        "print(\"Shape of Customers df : \" + str(customers_df.shape))\n",
        "\n",
        "print(\"-\" * 50)"
      ],
      "metadata": {
        "colab": {
          "base_uri": "https://localhost:8080/"
        },
        "id": "zuZCS2XMcgWr",
        "outputId": "1ce0da50-2e28-43be-b87e-72d09483760b"
      },
      "execution_count": null,
      "outputs": [
        {
          "output_type": "stream",
          "name": "stdout",
          "text": [
            "  CustomerID        CustomerName         Region  SignupDate\n",
            "0      C0001    Lawrence Carroll  South America  2022-07-10\n",
            "1      C0002      Elizabeth Lutz           Asia  2022-02-13\n",
            "2      C0003      Michael Rivera  South America  2024-03-07\n",
            "3      C0004  Kathleen Rodriguez  South America  2022-10-09\n",
            "4      C0005         Laura Weber           Asia  2022-08-15\n",
            "Shape of Customers df : (200, 4)\n",
            "--------------------------------------------------\n"
          ]
        }
      ]
    },
    {
      "cell_type": "code",
      "source": [
        "products_df = pd.read_csv(\"/content/Products.csv\")\n",
        "\n",
        "print(products_df.head())\n",
        "\n",
        "print(\"Shape of Products df : \" + str(products_df.shape))\n",
        "\n",
        "print(\"-\" * 50)"
      ],
      "metadata": {
        "colab": {
          "base_uri": "https://localhost:8080/"
        },
        "id": "AWwZlmvuc5xw",
        "outputId": "a16fb463-59ac-402e-e526-8c01426760e4"
      },
      "execution_count": null,
      "outputs": [
        {
          "output_type": "stream",
          "name": "stdout",
          "text": [
            "  ProductID              ProductName     Category   Price\n",
            "0      P001     ActiveWear Biography        Books  169.30\n",
            "1      P002    ActiveWear Smartwatch  Electronics  346.30\n",
            "2      P003  ComfortLiving Biography        Books   44.12\n",
            "3      P004            BookWorld Rug   Home Decor   95.69\n",
            "4      P005          TechPro T-Shirt     Clothing  429.31\n",
            "Shape of Products df : (100, 4)\n",
            "--------------------------------------------------\n"
          ]
        }
      ]
    },
    {
      "cell_type": "code",
      "source": [
        "transactions_df = pd.read_csv(\"/content/Transactions.csv\")\n",
        "\n",
        "print(transactions_df.head())\n",
        "\n",
        "print(\"Shape of Transactions df : \" + str(transactions_df.shape))\n",
        "\n",
        "print(\"-\" * 50)"
      ],
      "metadata": {
        "colab": {
          "base_uri": "https://localhost:8080/"
        },
        "id": "f0B-4CB1dTYg",
        "outputId": "efaf6d7f-434b-4b6d-da95-cd2b86efd026"
      },
      "execution_count": null,
      "outputs": [
        {
          "output_type": "stream",
          "name": "stdout",
          "text": [
            "  TransactionID CustomerID ProductID      TransactionDate  Quantity  \\\n",
            "0        T00001      C0199      P067  2024-08-25 12:38:23         1   \n",
            "1        T00112      C0146      P067  2024-05-27 22:23:54         1   \n",
            "2        T00166      C0127      P067  2024-04-25 07:38:55         1   \n",
            "3        T00272      C0087      P067  2024-03-26 22:55:37         2   \n",
            "4        T00363      C0070      P067  2024-03-21 15:10:10         3   \n",
            "\n",
            "   TotalValue   Price  \n",
            "0      300.68  300.68  \n",
            "1      300.68  300.68  \n",
            "2      300.68  300.68  \n",
            "3      601.36  300.68  \n",
            "4      902.04  300.68  \n",
            "Shape of Transactions df : (1000, 7)\n",
            "--------------------------------------------------\n"
          ]
        }
      ]
    },
    {
      "cell_type": "markdown",
      "source": [
        "## Quality Checks on data:\n"
      ],
      "metadata": {
        "id": "gi9iS7ASdt5v"
      }
    },
    {
      "cell_type": "markdown",
      "source": [
        "#### 1. Check for Missing Values"
      ],
      "metadata": {
        "id": "x5ZfGuZWlqbG"
      }
    },
    {
      "cell_type": "code",
      "source": [
        "print(customers_df.isnull().sum())\n",
        "print(\"-\" * 50)\n",
        "\n",
        "print(products_df.isnull().sum())\n",
        "print(\"-\" * 50)\n",
        "\n",
        "print(transactions_df.isnull().sum())\n",
        "print(\"-\" * 50)\n"
      ],
      "metadata": {
        "colab": {
          "base_uri": "https://localhost:8080/"
        },
        "id": "VeJ3nSlYdpZo",
        "outputId": "dadb77b3-97b1-4f01-db95-150b63f5517e"
      },
      "execution_count": null,
      "outputs": [
        {
          "output_type": "stream",
          "name": "stdout",
          "text": [
            "CustomerID      0\n",
            "CustomerName    0\n",
            "Region          0\n",
            "SignupDate      0\n",
            "dtype: int64\n",
            "--------------------------------------------------\n",
            "ProductID      0\n",
            "ProductName    0\n",
            "Category       0\n",
            "Price          0\n",
            "dtype: int64\n",
            "--------------------------------------------------\n",
            "TransactionID      0\n",
            "CustomerID         0\n",
            "ProductID          0\n",
            "TransactionDate    0\n",
            "Quantity           0\n",
            "TotalValue         0\n",
            "Price              0\n",
            "dtype: int64\n",
            "--------------------------------------------------\n"
          ]
        }
      ]
    },
    {
      "cell_type": "markdown",
      "source": [
        "#### 2. Check for Duplicates"
      ],
      "metadata": {
        "id": "lm4UUq8imatN"
      }
    },
    {
      "cell_type": "code",
      "source": [
        "print(customers_df.duplicated().sum())\n",
        "customers_df = customers_df.drop_duplicates()\n",
        "\n",
        "print(products_df.duplicated().sum())\n",
        "products_df = products_df.drop_duplicates()\n",
        "\n",
        "print(transactions_df.duplicated().sum())\n",
        "transactions_df = transactions_df.drop_duplicates()\n",
        "\n",
        "print(\"-\" * 50)"
      ],
      "metadata": {
        "colab": {
          "base_uri": "https://localhost:8080/"
        },
        "id": "rWULl8p1lx19",
        "outputId": "764993f1-60db-431b-8acd-ce7f9f0686f1"
      },
      "execution_count": null,
      "outputs": [
        {
          "output_type": "stream",
          "name": "stdout",
          "text": [
            "0\n",
            "0\n",
            "0\n",
            "--------------------------------------------------\n"
          ]
        }
      ]
    },
    {
      "cell_type": "markdown",
      "source": [
        "#### 3. Verify Data Types\n"
      ],
      "metadata": {
        "id": "03klctGwnQXl"
      }
    },
    {
      "cell_type": "markdown",
      "source": [
        "Ensuring that `SignupDate` and `TransactionDate` are in datetime format."
      ],
      "metadata": {
        "id": "lYFWtfznodxb"
      }
    },
    {
      "cell_type": "code",
      "source": [
        "customers_df['SignupDate'] = pd.to_datetime(customers_df['SignupDate'])\n",
        "transactions_df['TransactionDate'] = pd.to_datetime(transactions_df['TransactionDate'])"
      ],
      "metadata": {
        "id": "3WKnUaQmoin0"
      },
      "execution_count": null,
      "outputs": []
    },
    {
      "cell_type": "code",
      "source": [
        "print(customers_df.dtypes)\n",
        "print(\"-\" * 50)"
      ],
      "metadata": {
        "colab": {
          "base_uri": "https://localhost:8080/"
        },
        "id": "phdECKsYnAoV",
        "outputId": "503f8d7f-09f9-4d54-dde3-5f488bd7d655"
      },
      "execution_count": null,
      "outputs": [
        {
          "output_type": "stream",
          "name": "stdout",
          "text": [
            "CustomerID              object\n",
            "CustomerName            object\n",
            "Region                  object\n",
            "SignupDate      datetime64[ns]\n",
            "dtype: object\n",
            "--------------------------------------------------\n"
          ]
        }
      ]
    },
    {
      "cell_type": "code",
      "source": [
        "print(products_df.dtypes)\n",
        "print(\"-\" * 50)"
      ],
      "metadata": {
        "colab": {
          "base_uri": "https://localhost:8080/"
        },
        "id": "-1KGQ_mKnZrl",
        "outputId": "969eba26-5031-4da3-aab4-b9f4060829a3"
      },
      "execution_count": null,
      "outputs": [
        {
          "output_type": "stream",
          "name": "stdout",
          "text": [
            "ProductID       object\n",
            "ProductName     object\n",
            "Category        object\n",
            "Price          float64\n",
            "dtype: object\n",
            "--------------------------------------------------\n"
          ]
        }
      ]
    },
    {
      "cell_type": "code",
      "source": [
        "print(transactions_df.dtypes)\n",
        "print(\"-\" * 50)"
      ],
      "metadata": {
        "colab": {
          "base_uri": "https://localhost:8080/"
        },
        "id": "EgTDIQh3nbut",
        "outputId": "d0e025e9-eb54-4b0a-eea2-3101bcfd74fe"
      },
      "execution_count": null,
      "outputs": [
        {
          "output_type": "stream",
          "name": "stdout",
          "text": [
            "TransactionID              object\n",
            "CustomerID                 object\n",
            "ProductID                  object\n",
            "TransactionDate    datetime64[ns]\n",
            "Quantity                    int64\n",
            "TotalValue                float64\n",
            "Price                     float64\n",
            "dtype: object\n",
            "--------------------------------------------------\n"
          ]
        }
      ]
    },
    {
      "cell_type": "markdown",
      "source": [
        "#### 4. Validate Data Consistency"
      ],
      "metadata": {
        "id": "fdzJzJQ5pDE8"
      }
    },
    {
      "cell_type": "markdown",
      "source": [
        "Verifying foreign key relationships:\n",
        "1. Check if all `CustomerID` in `Transactions` dataframe exist in `Customers` dataframe.\n",
        "2. Check if all `ProductID` in `Transactions` dataframe exist in `Products` dataframe."
      ],
      "metadata": {
        "id": "xHn_36LYpmeN"
      }
    },
    {
      "cell_type": "code",
      "source": [
        "invalid_customers = transactions_df[~transactions_df['CustomerID'].isin(customers_df['CustomerID'])]\n",
        "print(\"Invalid CustomerIDs: \" + str(len(invalid_customers)))\n",
        "\n",
        "invalid_products = transactions_df[~transactions_df['ProductID'].isin(products_df['ProductID'])]\n",
        "print(\"Invalid ProductIDs: \" + str(len(invalid_products)))\n",
        "\n",
        "print(\"-\" * 50)"
      ],
      "metadata": {
        "colab": {
          "base_uri": "https://localhost:8080/"
        },
        "id": "Ql8az0TvpCeG",
        "outputId": "11d55753-cc11-4410-b370-1646ee75d700"
      },
      "execution_count": null,
      "outputs": [
        {
          "output_type": "stream",
          "name": "stdout",
          "text": [
            "Invalid CustomerIDs: 0\n",
            "Invalid ProductIDs: 0\n",
            "--------------------------------------------------\n"
          ]
        }
      ]
    },
    {
      "cell_type": "markdown",
      "source": [
        "Validating `TotalValue` = `Price` × `Quantity` in `Transactions` dataframe"
      ],
      "metadata": {
        "id": "0iG8u3rHrFW8"
      }
    },
    {
      "cell_type": "code",
      "source": [
        "transactions_df['ComputedValue'] = transactions_df['Price'] * transactions_df['Quantity']\n",
        "invalid_values = transactions_df[transactions_df['TotalValue'] != transactions_df['ComputedValue']]\n",
        "print(\"Rows with incorrect TotalValue: \" + str(len(invalid_values)))\n",
        "\n",
        "print(\"-\" * 50)"
      ],
      "metadata": {
        "colab": {
          "base_uri": "https://localhost:8080/"
        },
        "id": "QLi6aS0-rAuP",
        "outputId": "aa57220f-a724-4fdb-f670-97eda06d2cd7"
      },
      "execution_count": null,
      "outputs": [
        {
          "output_type": "stream",
          "name": "stdout",
          "text": [
            "Rows with incorrect TotalValue: 88\n",
            "--------------------------------------------------\n"
          ]
        }
      ]
    },
    {
      "cell_type": "markdown",
      "source": [
        "\n",
        "\n",
        "> Reminder to add something here as 88 rows have different value than calculated ones, main reason is that some of the values in totalvalues column are rounded off\n"
      ],
      "metadata": {
        "id": "KW8VtNxCsESE"
      }
    },
    {
      "cell_type": "markdown",
      "source": [
        "## Descriptive Statistics of Data\n",
        "To capture the central tendency, variability, and range of numerical data like `Price`, `Quantity`, `TotalValue`.\n"
      ],
      "metadata": {
        "id": "NBmNDSvuyuHo"
      }
    },
    {
      "cell_type": "code",
      "source": [
        "print(\"Descriptive Statistics for Numerical Columns:\")\n",
        "print(transactions_df[['Price', 'Quantity', 'TotalValue']].describe())\n",
        "print(\"-\" * 50)"
      ],
      "metadata": {
        "colab": {
          "base_uri": "https://localhost:8080/"
        },
        "id": "Eubrbz5gYy9m",
        "outputId": "8a3ec9f5-1ade-4fd8-ca29-cedd9678e7c3"
      },
      "execution_count": null,
      "outputs": [
        {
          "output_type": "stream",
          "name": "stdout",
          "text": [
            "Descriptive Statistics for Numerical Columns:\n",
            "            Price     Quantity   TotalValue\n",
            "count  1000.00000  1000.000000  1000.000000\n",
            "mean    272.55407     2.537000   689.995560\n",
            "std     140.73639     1.117981   493.144478\n",
            "min      16.08000     1.000000    16.080000\n",
            "25%     147.95000     2.000000   295.295000\n",
            "50%     299.93000     3.000000   588.880000\n",
            "75%     404.40000     4.000000  1011.660000\n",
            "max     497.76000     4.000000  1991.040000\n",
            "--------------------------------------------------\n"
          ]
        }
      ]
    },
    {
      "cell_type": "markdown",
      "source": [
        "To understand the distribution (unique entries) of non-numerical data, such as `Region` (from customers) and `Category` (from products)"
      ],
      "metadata": {
        "id": "6IWP1aWfap9I"
      }
    },
    {
      "cell_type": "code",
      "source": [
        "print(\"Region Distribution:\")\n",
        "print(customers_df['Region'].value_counts())\n",
        "print(\"-\" * 50)\n",
        "\n",
        "print(\"\\nProduct Categories Distribution:\")\n",
        "print(products_df['Category'].value_counts())\n",
        "print(\"-\" * 50)"
      ],
      "metadata": {
        "colab": {
          "base_uri": "https://localhost:8080/"
        },
        "id": "QZ9eykFPayiF",
        "outputId": "83ca4609-b4a2-4558-ac5e-0bba6befe88b"
      },
      "execution_count": null,
      "outputs": [
        {
          "output_type": "stream",
          "name": "stdout",
          "text": [
            "Region Distribution:\n",
            "Region\n",
            "South America    59\n",
            "Europe           50\n",
            "North America    46\n",
            "Asia             45\n",
            "Name: count, dtype: int64\n",
            "--------------------------------------------------\n",
            "\n",
            "Product Categories Distribution:\n",
            "Category\n",
            "Books          26\n",
            "Electronics    26\n",
            "Clothing       25\n",
            "Home Decor     23\n",
            "Name: count, dtype: int64\n",
            "--------------------------------------------------\n"
          ]
        }
      ]
    },
    {
      "cell_type": "markdown",
      "source": [
        "Use boxplots to identify outliers for key columns like `Price` or `TotalValue`"
      ],
      "metadata": {
        "id": "MCdPzloibWk_"
      }
    },
    {
      "cell_type": "code",
      "source": [
        "sns.boxplot(data=transactions_df[['Price', 'TotalValue']], orient='h')\n",
        "plt.title(\"Boxplot for Price and Total Value\")\n",
        "plt.show()"
      ],
      "metadata": {
        "colab": {
          "base_uri": "https://localhost:8080/",
          "height": 452
        },
        "id": "sJQaEkY_bZCO",
        "outputId": "c2892cbd-f002-45fc-c98e-01a7416c118c"
      },
      "execution_count": null,
      "outputs": [
        {
          "output_type": "display_data",
          "data": {
            "text/plain": [
              "<Figure size 640x480 with 1 Axes>"
            ],
            "image/png": "[encoded data removed]"
          },
          "metadata": {}
        }
      ]
    },
    {
      "cell_type": "markdown",
      "source": [
        "Aggregating data by groups provides insights into trends\n",
        "\n",
        "1. Total sales by `Category`\n",
        "2. Average quantity purchased by `Region`.\n"
      ],
      "metadata": {
        "id": "gPR0Y-FXcv-4"
      }
    },
    {
      "cell_type": "code",
      "source": [
        "print(\"Total Sales by Category:\")\n",
        "print(transactions_df.groupby('ProductID')['TotalValue'].sum().head())\n",
        "print(\"-\" * 50)\n",
        "\n",
        "print(\"\\nAverage Quantity Purchased by Region:\")\n",
        "merged_df = transactions_df.merge(customers_df, on='CustomerID')  # Merge for Region\n",
        "print(merged_df.groupby('Region')['Quantity'].mean())\n",
        "print(\"-\" * 50)"
      ],
      "metadata": {
        "colab": {
          "base_uri": "https://localhost:8080/"
        },
        "id": "-8OOi3mccoO9",
        "outputId": "f7100d9e-e55c-43a6-b54c-158f12c022ea"
      },
      "execution_count": null,
      "outputs": [
        {
          "output_type": "stream",
          "name": "stdout",
          "text": [
            "Total Sales by Category:\n",
            "ProductID\n",
            "P001     3047.40\n",
            "P002     8657.50\n",
            "P003     1367.72\n",
            "P004     1722.42\n",
            "P005    10303.44\n",
            "Name: TotalValue, dtype: float64\n",
            "--------------------------------------------------\n",
            "\n",
            "Average Quantity Purchased by Region:\n",
            "Region\n",
            "Asia             2.568807\n",
            "Europe           2.542735\n",
            "North America    2.430328\n",
            "South America    2.595395\n",
            "Name: Quantity, dtype: float64\n",
            "--------------------------------------------------\n"
          ]
        }
      ]
    },
    {
      "cell_type": "markdown",
      "source": [
        "## Visualization of Data"
      ],
      "metadata": {
        "id": "3p4owAapoY5S"
      }
    },
    {
      "cell_type": "code",
      "source": [
        "# Merge data for EDA\n",
        "merged_df = transactions_df.merge(customers_df, on=\"CustomerID\").merge(products_df, on=\"ProductID\")"
      ],
      "metadata": {
        "id": "bRNJLhe_oGDN"
      },
      "execution_count": null,
      "outputs": []
    },
    {
      "cell_type": "code",
      "source": [
        "# 1: Distribution of Customers by Region\n",
        "region_distribution = customers_df['Region'].value_counts().reset_index()\n",
        "region_distribution.columns = ['Region', 'Customer Count']\n",
        "fig1 = px.bar(region_distribution, x='Region', y='Customer Count', title=\"Distribution of Customers by Region\")\n",
        "fig1.show()"
      ],
      "metadata": {
        "colab": {
          "base_uri": "https://localhost:8080/",
          "height": 542
        },
        "id": "rYtyli3Ctrss",
        "outputId": "cc176690-31cd-4543-b784-81adcee488ea"
      },
      "execution_count": null,
      "outputs": [
        {
          "output_type": "display_data",
          "data": {
            "text/html": [
              "<html>\n",
              "<head><meta charset=\"utf-8\" /></head>\n",
              "<body>\n",
              "    <div>            <script src=\"https://cdnjs.cloudflare.com/ajax/libs/mathjax/2.7.5/MathJax.js?config=TeX-AMS-MML_SVG\"></script><script type=\"text/javascript\">if (window.MathJax && window.MathJax.Hub && window.MathJax.Hub.Config) {window.MathJax.Hub.Config({SVG: {font: \"STIX-Web\"}});}</script>                <script type=\"text/javascript\">window.PlotlyConfig = {MathJaxConfig: 'local'};</script>\n",
              "        <script charset=\"utf-8\" src=\"https://cdn.plot.ly/plotly-2.35.2.min.js\"></script>                <div id=\"7a512676-d916-49ba-84a6-1892b6e89ca9\" class=\"plotly-graph-div\" style=\"height:525px; width:100%;\"></div>            <script type=\"text/javascript\">                                    window.PLOTLYENV=window.PLOTLYENV || {};                                    if (document.getElementById(\"7a512676-d916-49ba-84a6-1892b6e89ca9\")) {                    Plotly.newPlot(                        \"7a512676-d916-49ba-84a6-1892b6e89ca9\",                        [{\"alignmentgroup\":\"True\",\"hovertemplate\":\"Region=%{x}\\u003cbr\\u003eCustomer Count=%{y}\\u003cextra\\u003e\\u003c\\u002fextra\\u003e\",\"legendgroup\":\"\",\"marker\":{\"color\":\"#636efa\",\"pattern\":{\"shape\":\"\"}},\"name\":\"\",\"offsetgroup\":\"\",\"orientation\":\"v\",\"showlegend\":false,\"textposition\":\"auto\",\"x\":[\"South America\",\"Europe\",\"North America\",\"Asia\"],\"xaxis\":\"x\",\"y\":[59,50,46,45],\"yaxis\":\"y\",\"type\":\"bar\"}],                        {\"template\":{\"data\":{\"histogram2dcontour\":[{\"type\":\"histogram2dcontour\",\"colorbar\":{\"outlinewidth\":0,\"ticks\":\"\"},\"colorscale\":[[0.0,\"#0d0887\"],[0.1111111111111111,\"#46039f\"],[0.2222222222222222,\"#7201a8\"],[0.3333333333333333,\"#9c179e\"],[0.4444444444444444,\"#bd3786\"],[0.5555555555555556,\"#d8576b\"],[0.6666666666666666,\"#ed7953\"],[0.7777777777777778,\"#fb9f3a\"],[0.8888888888888888,\"#fdca26\"],[1.0,\"#f0f921\"]]}],\"choropleth\":[{\"type\":\"choropleth\",\"colorbar\":{\"outlinewidth\":0,\"ticks\":\"\"}}],\"histogram2d\":[{\"type\":\"histogram2d\",\"colorbar\":{\"outlinewidth\":0,\"ticks\":\"\"},\"colorscale\":[[0.0,\"#0d0887\"],[0.1111111111111111,\"#46039f\"],[0.2222222222222222,\"#7201a8\"],[0.3333333333333333,\"#9c179e\"],[0.4444444444444444,\"#bd3786\"],[0.5555555555555556,\"#d8576b\"],[0.6666666666666666,\"#ed7953\"],[0.7777777777777778,\"#fb9f3a\"],[0.8888888888888888,\"#fdca26\"],[1.0,\"#f0f921\"]]}],\"heatmap\":[{\"type\":\"heatmap\",\"colorbar\":{\"outlinewidth\":0,\"ticks\":\"\"},\"colorscale\":[[0.0,\"#0d0887\"],[0.1111111111111111,\"#46039f\"],[0.2222222222222222,\"#7201a8\"],[0.3333333333333333,\"#9c179e\"],[0.4444444444444444,\"#bd3786\"],[0.5555555555555556,\"#d8576b\"],[0.6666666666666666,\"#ed7953\"],[0.7777777777777778,\"#fb9f3a\"],[0.8888888888888888,\"#fdca26\"],[1.0,\"#f0f921\"]]}],\"heatmapgl\":[{\"type\":\"heatmapgl\",\"colorbar\":{\"outlinewidth\":0,\"ticks\":\"\"},\"colorscale\":[[0.0,\"#0d0887\"],[0.1111111111111111,\"#46039f\"],[0.2222222222222222,\"#7201a8\"],[0.3333333333333333,\"#9c179e\"],[0.4444444444444444,\"#bd3786\"],[0.5555555555555556,\"#d8576b\"],[0.6666666666666666,\"#ed7953\"],[0.7777777777777778,\"#fb9f3a\"],[0.8888888888888888,\"#fdca26\"],[1.0,\"#f0f921\"]]}],\"contourcarpet\":[{\"type\":\"contourcarpet\",\"colorbar\":{\"outlinewidth\":0,\"ticks\":\"\"}}],\"contour\":[{\"type\":\"contour\",\"colorbar\":{\"outlinewidth\":0,\"ticks\":\"\"},\"colorscale\":[[0.0,\"#0d0887\"],[0.1111111111111111,\"#46039f\"],[0.2222222222222222,\"#7201a8\"],[0.3333333333333333,\"#9c179e\"],[0.4444444444444444,\"#bd3786\"],[0.5555555555555556,\"#d8576b\"],[0.6666666666666666,\"#ed7953\"],[0.7777777777777778,\"#fb9f3a\"],[0.8888888888888888,\"#fdca26\"],[1.0,\"#f0f921\"]]}],\"surface\":[{\"type\":\"surface\",\"colorbar\":{\"outlinewidth\":0,\"ticks\":\"\"},\"colorscale\":[[0.0,\"#0d0887\"],[0.1111111111111111,\"#46039f\"],[0.2222222222222222,\"#7201a8\"],[0.3333333333333333,\"#9c179e\"],[0.4444444444444444,\"#bd3786\"],[0.5555555555555556,\"#d8576b\"],[0.6666666666666666,\"#ed7953\"],[0.7777777777777778,\"#fb9f3a\"],[0.8888888888888888,\"#fdca26\"],[1.0,\"#f0f921\"]]}],\"mesh3d\":[{\"type\":\"mesh3d\",\"colorbar\":{\"outlinewidth\":0,\"ticks\":\"\"}}],\"scatter\":[{\"fillpattern\":{\"fillmode\":\"overlay\",\"size\":10,\"solidity\":0.2},\"type\":\"scatter\"}],\"parcoords\":[{\"type\":\"parcoords\",\"line\":{\"colorbar\":{\"outlinewidth\":0,\"ticks\":\"\"}}}],\"scatterpolargl\":[{\"type\":\"scatterpolargl\",\"marker\":{\"colorbar\":{\"outlinewidth\":0,\"ticks\":\"\"}}}],\"bar\":[{\"error_x\":{\"color\":\"#2a3f5f\"},\"error_y\":{\"color\":\"#2a3f5f\"},\"marker\":{\"line\":{\"color\":\"#E5ECF6\",\"width\":0.5},\"pattern\":{\"fillmode\":\"overlay\",\"size\":10,\"solidity\":0.2}},\"type\":\"bar\"}],\"scattergeo\":[{\"type\":\"scattergeo\",\"marker\":{\"colorbar\":{\"outlinewidth\":0,\"ticks\":\"\"}}}],\"scatterpolar\":[{\"type\":\"scatterpolar\",\"marker\":{\"colorbar\":{\"outlinewidth\":0,\"ticks\":\"\"}}}],\"histogram\":[{\"marker\":{\"pattern\":{\"fillmode\":\"overlay\",\"size\":10,\"solidity\":0.2}},\"type\":\"histogram\"}],\"scattergl\":[{\"type\":\"scattergl\",\"marker\":{\"colorbar\":{\"outlinewidth\":0,\"ticks\":\"\"}}}],\"scatter3d\":[{\"type\":\"scatter3d\",\"line\":{\"colorbar\":{\"outlinewidth\":0,\"ticks\":\"\"}},\"marker\":{\"colorbar\":{\"outlinewidth\":0,\"ticks\":\"\"}}}],\"scattermapbox\":[{\"type\":\"scattermapbox\",\"marker\":{\"colorbar\":{\"outlinewidth\":0,\"ticks\":\"\"}}}],\"scatterternary\":[{\"type\":\"scatterternary\",\"marker\":{\"colorbar\":{\"outlinewidth\":0,\"ticks\":\"\"}}}],\"scattercarpet\":[{\"type\":\"scattercarpet\",\"marker\":{\"colorbar\":{\"outlinewidth\":0,\"ticks\":\"\"}}}],\"carpet\":[{\"aaxis\":{\"endlinecolor\":\"#2a3f5f\",\"gridcolor\":\"white\",\"linecolor\":\"white\",\"minorgridcolor\":\"white\",\"startlinecolor\":\"#2a3f5f\"},\"baxis\":{\"endlinecolor\":\"#2a3f5f\",\"gridcolor\":\"white\",\"linecolor\":\"white\",\"minorgridcolor\":\"white\",\"startlinecolor\":\"#2a3f5f\"},\"type\":\"carpet\"}],\"table\":[{\"cells\":{\"fill\":{\"color\":\"#EBF0F8\"},\"line\":{\"color\":\"white\"}},\"header\":{\"fill\":{\"color\":\"#C8D4E3\"},\"line\":{\"color\":\"white\"}},\"type\":\"table\"}],\"barpolar\":[{\"marker\":{\"line\":{\"color\":\"#E5ECF6\",\"width\":0.5},\"pattern\":{\"fillmode\":\"overlay\",\"size\":10,\"solidity\":0.2}},\"type\":\"barpolar\"}],\"pie\":[{\"automargin\":true,\"type\":\"pie\"}]},\"layout\":{\"autotypenumbers\":\"strict\",\"colorway\":[\"#636efa\",\"#EF553B\",\"#00cc96\",\"#ab63fa\",\"#FFA15A\",\"#19d3f3\",\"#FF6692\",\"#B6E880\",\"#FF97FF\",\"#FECB52\"],\"font\":{\"color\":\"#2a3f5f\"},\"hovermode\":\"closest\",\"hoverlabel\":{\"align\":\"left\"},\"paper_bgcolor\":\"white\",\"plot_bgcolor\":\"#E5ECF6\",\"polar\":{\"bgcolor\":\"#E5ECF6\",\"angularaxis\":{\"gridcolor\":\"white\",\"linecolor\":\"white\",\"ticks\":\"\"},\"radialaxis\":{\"gridcolor\":\"white\",\"linecolor\":\"white\",\"ticks\":\"\"}},\"ternary\":{\"bgcolor\":\"#E5ECF6\",\"aaxis\":{\"gridcolor\":\"white\",\"linecolor\":\"white\",\"ticks\":\"\"},\"baxis\":{\"gridcolor\":\"white\",\"linecolor\":\"white\",\"ticks\":\"\"},\"caxis\":{\"gridcolor\":\"white\",\"linecolor\":\"white\",\"ticks\":\"\"}},\"coloraxis\":{\"colorbar\":{\"outlinewidth\":0,\"ticks\":\"\"}},\"colorscale\":{\"sequential\":[[0.0,\"#0d0887\"],[0.1111111111111111,\"#46039f\"],[0.2222222222222222,\"#7201a8\"],[0.3333333333333333,\"#9c179e\"],[0.4444444444444444,\"#bd3786\"],[0.5555555555555556,\"#d8576b\"],[0.6666666666666666,\"#ed7953\"],[0.7777777777777778,\"#fb9f3a\"],[0.8888888888888888,\"#fdca26\"],[1.0,\"#f0f921\"]],\"sequentialminus\":[[0.0,\"#0d0887\"],[0.1111111111111111,\"#46039f\"],[0.2222222222222222,\"#7201a8\"],[0.3333333333333333,\"#9c179e\"],[0.4444444444444444,\"#bd3786\"],[0.5555555555555556,\"#d8576b\"],[0.6666666666666666,\"#ed7953\"],[0.7777777777777778,\"#fb9f3a\"],[0.8888888888888888,\"#fdca26\"],[1.0,\"#f0f921\"]],\"diverging\":[[0,\"#8e0152\"],[0.1,\"#c51b7d\"],[0.2,\"#de77ae\"],[0.3,\"#f1b6da\"],[0.4,\"#fde0ef\"],[0.5,\"#f7f7f7\"],[0.6,\"#e6f5d0\"],[0.7,\"#b8e186\"],[0.8,\"#7fbc41\"],[0.9,\"#4d9221\"],[1,\"#276419\"]]},\"xaxis\":{\"gridcolor\":\"white\",\"linecolor\":\"white\",\"ticks\":\"\",\"title\":{\"standoff\":15},\"zerolinecolor\":\"white\",\"automargin\":true,\"zerolinewidth\":2},\"yaxis\":{\"gridcolor\":\"white\",\"linecolor\":\"white\",\"ticks\":\"\",\"title\":{\"standoff\":15},\"zerolinecolor\":\"white\",\"automargin\":true,\"zerolinewidth\":2},\"scene\":{\"xaxis\":{\"backgroundcolor\":\"#E5ECF6\",\"gridcolor\":\"white\",\"linecolor\":\"white\",\"showbackground\":true,\"ticks\":\"\",\"zerolinecolor\":\"white\",\"gridwidth\":2},\"yaxis\":{\"backgroundcolor\":\"#E5ECF6\",\"gridcolor\":\"white\",\"linecolor\":\"white\",\"showbackground\":true,\"ticks\":\"\",\"zerolinecolor\":\"white\",\"gridwidth\":2},\"zaxis\":{\"backgroundcolor\":\"#E5ECF6\",\"gridcolor\":\"white\",\"linecolor\":\"white\",\"showbackground\":true,\"ticks\":\"\",\"zerolinecolor\":\"white\",\"gridwidth\":2}},\"shapedefaults\":{\"line\":{\"color\":\"#2a3f5f\"}},\"annotationdefaults\":{\"arrowcolor\":\"#2a3f5f\",\"arrowhead\":0,\"arrowwidth\":1},\"geo\":{\"bgcolor\":\"white\",\"landcolor\":\"#E5ECF6\",\"subunitcolor\":\"white\",\"showland\":true,\"showlakes\":true,\"lakecolor\":\"white\"},\"title\":{\"x\":0.05},\"mapbox\":{\"style\":\"light\"}}},\"xaxis\":{\"anchor\":\"y\",\"domain\":[0.0,1.0],\"title\":{\"text\":\"Region\"}},\"yaxis\":{\"anchor\":\"x\",\"domain\":[0.0,1.0],\"title\":{\"text\":\"Customer Count\"}},\"legend\":{\"tracegroupgap\":0},\"title\":{\"text\":\"Distribution of Customers by Region\"},\"barmode\":\"relative\"},                        {\"responsive\": true}                    ).then(function(){\n",
              "                            \n",
              "var gd = document.getElementById('7a512676-d916-49ba-84a6-1892b6e89ca9');\n",
              "var x = new MutationObserver(function (mutations, observer) {{\n",
              "        var display = window.getComputedStyle(gd).display;\n",
              "        if (!display || display === 'none') {{\n",
              "            console.log([gd, 'removed!']);\n",
              "            Plotly.purge(gd);\n",
              "            observer.disconnect();\n",
              "        }}\n",
              "}});\n",
              "\n",
              "// Listen for the removal of the full notebook cells\n",
              "var notebookContainer = gd.closest('#notebook-container');\n",
              "if (notebookContainer) {{\n",
              "    x.observe(notebookContainer, {childList: true});\n",
              "}}\n",
              "\n",
              "// Listen for the clearing of the current output cell\n",
              "var outputEl = gd.closest('.output');\n",
              "if (outputEl) {{\n",
              "    x.observe(outputEl, {childList: true});\n",
              "}}\n",
              "\n",
              "                        })                };                            </script>        </div>\n",
              "</body>\n",
              "</html>"
            ]
          },
          "metadata": {}
        }
      ]
    },
    {
      "cell_type": "code",
      "source": [
        "# 2: Top 5 Product Categories by Total Sales\n",
        "top_categories = (merged_df.groupby('Category')['TotalValue']\n",
        "                  .sum()\n",
        "                  .sort_values(ascending=False)\n",
        "                  .reset_index()\n",
        "                  .head(5))\n",
        "fig2 = px.pie(top_categories, values='TotalValue', names='Category', title=\"Top 5 Product Categories by Sales\")\n",
        "fig2.show()"
      ],
      "metadata": {
        "id": "r7VYsBCUoGAk",
        "colab": {
          "base_uri": "https://localhost:8080/",
          "height": 542
        },
        "outputId": "5d71b913-fe4a-412c-94e9-3e4d3ed6efdb"
      },
      "execution_count": null,
      "outputs": [
        {
          "output_type": "display_data",
          "data": {
            "text/html": [
              "<html>\n",
              "<head><meta charset=\"utf-8\" /></head>\n",
              "<body>\n",
              "    <div>            <script src=\"https://cdnjs.cloudflare.com/ajax/libs/mathjax/2.7.5/MathJax.js?config=TeX-AMS-MML_SVG\"></script><script type=\"text/javascript\">if (window.MathJax && window.MathJax.Hub && window.MathJax.Hub.Config) {window.MathJax.Hub.Config({SVG: {font: \"STIX-Web\"}});}</script>                <script type=\"text/javascript\">window.PlotlyConfig = {MathJaxConfig: 'local'};</script>\n",
              "        <script charset=\"utf-8\" src=\"https://cdn.plot.ly/plotly-2.35.2.min.js\"></script>                <div id=\"3bf007e2-618f-4ba8-bf69-e59ded841135\" class=\"plotly-graph-div\" style=\"height:525px; width:100%;\"></div>            <script type=\"text/javascript\">                                    window.PLOTLYENV=window.PLOTLYENV || {};                                    if (document.getElementById(\"3bf007e2-618f-4ba8-bf69-e59ded841135\")) {                    Plotly.newPlot(                        \"3bf007e2-618f-4ba8-bf69-e59ded841135\",                        [{\"domain\":{\"x\":[0.0,1.0],\"y\":[0.0,1.0]},\"hovertemplate\":\"Category=%{label}\\u003cbr\\u003eTotalValue=%{value}\\u003cextra\\u003e\\u003c\\u002fextra\\u003e\",\"labels\":[\"Books\",\"Electronics\",\"Clothing\",\"Home Decor\"],\"legendgroup\":\"\",\"name\":\"\",\"showlegend\":true,\"values\":[192147.47,180783.5,166170.66,150893.93],\"type\":\"pie\"}],                        {\"template\":{\"data\":{\"histogram2dcontour\":[{\"type\":\"histogram2dcontour\",\"colorbar\":{\"outlinewidth\":0,\"ticks\":\"\"},\"colorscale\":[[0.0,\"#0d0887\"],[0.1111111111111111,\"#46039f\"],[0.2222222222222222,\"#7201a8\"],[0.3333333333333333,\"#9c179e\"],[0.4444444444444444,\"#bd3786\"],[0.5555555555555556,\"#d8576b\"],[0.6666666666666666,\"#ed7953\"],[0.7777777777777778,\"#fb9f3a\"],[0.8888888888888888,\"#fdca26\"],[1.0,\"#f0f921\"]]}],\"choropleth\":[{\"type\":\"choropleth\",\"colorbar\":{\"outlinewidth\":0,\"ticks\":\"\"}}],\"histogram2d\":[{\"type\":\"histogram2d\",\"colorbar\":{\"outlinewidth\":0,\"ticks\":\"\"},\"colorscale\":[[0.0,\"#0d0887\"],[0.1111111111111111,\"#46039f\"],[0.2222222222222222,\"#7201a8\"],[0.3333333333333333,\"#9c179e\"],[0.4444444444444444,\"#bd3786\"],[0.5555555555555556,\"#d8576b\"],[0.6666666666666666,\"#ed7953\"],[0.7777777777777778,\"#fb9f3a\"],[0.8888888888888888,\"#fdca26\"],[1.0,\"#f0f921\"]]}],\"heatmap\":[{\"type\":\"heatmap\",\"colorbar\":{\"outlinewidth\":0,\"ticks\":\"\"},\"colorscale\":[[0.0,\"#0d0887\"],[0.1111111111111111,\"#46039f\"],[0.2222222222222222,\"#7201a8\"],[0.3333333333333333,\"#9c179e\"],[0.4444444444444444,\"#bd3786\"],[0.5555555555555556,\"#d8576b\"],[0.6666666666666666,\"#ed7953\"],[0.7777777777777778,\"#fb9f3a\"],[0.8888888888888888,\"#fdca26\"],[1.0,\"#f0f921\"]]}],\"heatmapgl\":[{\"type\":\"heatmapgl\",\"colorbar\":{\"outlinewidth\":0,\"ticks\":\"\"},\"colorscale\":[[0.0,\"#0d0887\"],[0.1111111111111111,\"#46039f\"],[0.2222222222222222,\"#7201a8\"],[0.3333333333333333,\"#9c179e\"],[0.4444444444444444,\"#bd3786\"],[0.5555555555555556,\"#d8576b\"],[0.6666666666666666,\"#ed7953\"],[0.7777777777777778,\"#fb9f3a\"],[0.8888888888888888,\"#fdca26\"],[1.0,\"#f0f921\"]]}],\"contourcarpet\":[{\"type\":\"contourcarpet\",\"colorbar\":{\"outlinewidth\":0,\"ticks\":\"\"}}],\"contour\":[{\"type\":\"contour\",\"colorbar\":{\"outlinewidth\":0,\"ticks\":\"\"},\"colorscale\":[[0.0,\"#0d0887\"],[0.1111111111111111,\"#46039f\"],[0.2222222222222222,\"#7201a8\"],[0.3333333333333333,\"#9c179e\"],[0.4444444444444444,\"#bd3786\"],[0.5555555555555556,\"#d8576b\"],[0.6666666666666666,\"#ed7953\"],[0.7777777777777778,\"#fb9f3a\"],[0.8888888888888888,\"#fdca26\"],[1.0,\"#f0f921\"]]}],\"surface\":[{\"type\":\"surface\",\"colorbar\":{\"outlinewidth\":0,\"ticks\":\"\"},\"colorscale\":[[0.0,\"#0d0887\"],[0.1111111111111111,\"#46039f\"],[0.2222222222222222,\"#7201a8\"],[0.3333333333333333,\"#9c179e\"],[0.4444444444444444,\"#bd3786\"],[0.5555555555555556,\"#d8576b\"],[0.6666666666666666,\"#ed7953\"],[0.7777777777777778,\"#fb9f3a\"],[0.8888888888888888,\"#fdca26\"],[1.0,\"#f0f921\"]]}],\"mesh3d\":[{\"type\":\"mesh3d\",\"colorbar\":{\"outlinewidth\":0,\"ticks\":\"\"}}],\"scatter\":[{\"fillpattern\":{\"fillmode\":\"overlay\",\"size\":10,\"solidity\":0.2},\"type\":\"scatter\"}],\"parcoords\":[{\"type\":\"parcoords\",\"line\":{\"colorbar\":{\"outlinewidth\":0,\"ticks\":\"\"}}}],\"scatterpolargl\":[{\"type\":\"scatterpolargl\",\"marker\":{\"colorbar\":{\"outlinewidth\":0,\"ticks\":\"\"}}}],\"bar\":[{\"error_x\":{\"color\":\"#2a3f5f\"},\"error_y\":{\"color\":\"#2a3f5f\"},\"marker\":{\"line\":{\"color\":\"#E5ECF6\",\"width\":0.5},\"pattern\":{\"fillmode\":\"overlay\",\"size\":10,\"solidity\":0.2}},\"type\":\"bar\"}],\"scattergeo\":[{\"type\":\"scattergeo\",\"marker\":{\"colorbar\":{\"outlinewidth\":0,\"ticks\":\"\"}}}],\"scatterpolar\":[{\"type\":\"scatterpolar\",\"marker\":{\"colorbar\":{\"outlinewidth\":0,\"ticks\":\"\"}}}],\"histogram\":[{\"marker\":{\"pattern\":{\"fillmode\":\"overlay\",\"size\":10,\"solidity\":0.2}},\"type\":\"histogram\"}],\"scattergl\":[{\"type\":\"scattergl\",\"marker\":{\"colorbar\":{\"outlinewidth\":0,\"ticks\":\"\"}}}],\"scatter3d\":[{\"type\":\"scatter3d\",\"line\":{\"colorbar\":{\"outlinewidth\":0,\"ticks\":\"\"}},\"marker\":{\"colorbar\":{\"outlinewidth\":0,\"ticks\":\"\"}}}],\"scattermapbox\":[{\"type\":\"scattermapbox\",\"marker\":{\"colorbar\":{\"outlinewidth\":0,\"ticks\":\"\"}}}],\"scatterternary\":[{\"type\":\"scatterternary\",\"marker\":{\"colorbar\":{\"outlinewidth\":0,\"ticks\":\"\"}}}],\"scattercarpet\":[{\"type\":\"scattercarpet\",\"marker\":{\"colorbar\":{\"outlinewidth\":0,\"ticks\":\"\"}}}],\"carpet\":[{\"aaxis\":{\"endlinecolor\":\"#2a3f5f\",\"gridcolor\":\"white\",\"linecolor\":\"white\",\"minorgridcolor\":\"white\",\"startlinecolor\":\"#2a3f5f\"},\"baxis\":{\"endlinecolor\":\"#2a3f5f\",\"gridcolor\":\"white\",\"linecolor\":\"white\",\"minorgridcolor\":\"white\",\"startlinecolor\":\"#2a3f5f\"},\"type\":\"carpet\"}],\"table\":[{\"cells\":{\"fill\":{\"color\":\"#EBF0F8\"},\"line\":{\"color\":\"white\"}},\"header\":{\"fill\":{\"color\":\"#C8D4E3\"},\"line\":{\"color\":\"white\"}},\"type\":\"table\"}],\"barpolar\":[{\"marker\":{\"line\":{\"color\":\"#E5ECF6\",\"width\":0.5},\"pattern\":{\"fillmode\":\"overlay\",\"size\":10,\"solidity\":0.2}},\"type\":\"barpolar\"}],\"pie\":[{\"automargin\":true,\"type\":\"pie\"}]},\"layout\":{\"autotypenumbers\":\"strict\",\"colorway\":[\"#636efa\",\"#EF553B\",\"#00cc96\",\"#ab63fa\",\"#FFA15A\",\"#19d3f3\",\"#FF6692\",\"#B6E880\",\"#FF97FF\",\"#FECB52\"],\"font\":{\"color\":\"#2a3f5f\"},\"hovermode\":\"closest\",\"hoverlabel\":{\"align\":\"left\"},\"paper_bgcolor\":\"white\",\"plot_bgcolor\":\"#E5ECF6\",\"polar\":{\"bgcolor\":\"#E5ECF6\",\"angularaxis\":{\"gridcolor\":\"white\",\"linecolor\":\"white\",\"ticks\":\"\"},\"radialaxis\":{\"gridcolor\":\"white\",\"linecolor\":\"white\",\"ticks\":\"\"}},\"ternary\":{\"bgcolor\":\"#E5ECF6\",\"aaxis\":{\"gridcolor\":\"white\",\"linecolor\":\"white\",\"ticks\":\"\"},\"baxis\":{\"gridcolor\":\"white\",\"linecolor\":\"white\",\"ticks\":\"\"},\"caxis\":{\"gridcolor\":\"white\",\"linecolor\":\"white\",\"ticks\":\"\"}},\"coloraxis\":{\"colorbar\":{\"outlinewidth\":0,\"ticks\":\"\"}},\"colorscale\":{\"sequential\":[[0.0,\"#0d0887\"],[0.1111111111111111,\"#46039f\"],[0.2222222222222222,\"#7201a8\"],[0.3333333333333333,\"#9c179e\"],[0.4444444444444444,\"#bd3786\"],[0.5555555555555556,\"#d8576b\"],[0.6666666666666666,\"#ed7953\"],[0.7777777777777778,\"#fb9f3a\"],[0.8888888888888888,\"#fdca26\"],[1.0,\"#f0f921\"]],\"sequentialminus\":[[0.0,\"#0d0887\"],[0.1111111111111111,\"#46039f\"],[0.2222222222222222,\"#7201a8\"],[0.3333333333333333,\"#9c179e\"],[0.4444444444444444,\"#bd3786\"],[0.5555555555555556,\"#d8576b\"],[0.6666666666666666,\"#ed7953\"],[0.7777777777777778,\"#fb9f3a\"],[0.8888888888888888,\"#fdca26\"],[1.0,\"#f0f921\"]],\"diverging\":[[0,\"#8e0152\"],[0.1,\"#c51b7d\"],[0.2,\"#de77ae\"],[0.3,\"#f1b6da\"],[0.4,\"#fde0ef\"],[0.5,\"#f7f7f7\"],[0.6,\"#e6f5d0\"],[0.7,\"#b8e186\"],[0.8,\"#7fbc41\"],[0.9,\"#4d9221\"],[1,\"#276419\"]]},\"xaxis\":{\"gridcolor\":\"white\",\"linecolor\":\"white\",\"ticks\":\"\",\"title\":{\"standoff\":15},\"zerolinecolor\":\"white\",\"automargin\":true,\"zerolinewidth\":2},\"yaxis\":{\"gridcolor\":\"white\",\"linecolor\":\"white\",\"ticks\":\"\",\"title\":{\"standoff\":15},\"zerolinecolor\":\"white\",\"automargin\":true,\"zerolinewidth\":2},\"scene\":{\"xaxis\":{\"backgroundcolor\":\"#E5ECF6\",\"gridcolor\":\"white\",\"linecolor\":\"white\",\"showbackground\":true,\"ticks\":\"\",\"zerolinecolor\":\"white\",\"gridwidth\":2},\"yaxis\":{\"backgroundcolor\":\"#E5ECF6\",\"gridcolor\":\"white\",\"linecolor\":\"white\",\"showbackground\":true,\"ticks\":\"\",\"zerolinecolor\":\"white\",\"gridwidth\":2},\"zaxis\":{\"backgroundcolor\":\"#E5ECF6\",\"gridcolor\":\"white\",\"linecolor\":\"white\",\"showbackground\":true,\"ticks\":\"\",\"zerolinecolor\":\"white\",\"gridwidth\":2}},\"shapedefaults\":{\"line\":{\"color\":\"#2a3f5f\"}},\"annotationdefaults\":{\"arrowcolor\":\"#2a3f5f\",\"arrowhead\":0,\"arrowwidth\":1},\"geo\":{\"bgcolor\":\"white\",\"landcolor\":\"#E5ECF6\",\"subunitcolor\":\"white\",\"showland\":true,\"showlakes\":true,\"lakecolor\":\"white\"},\"title\":{\"x\":0.05},\"mapbox\":{\"style\":\"light\"}}},\"legend\":{\"tracegroupgap\":0},\"title\":{\"text\":\"Top 5 Product Categories by Sales\"}},                        {\"responsive\": true}                    ).then(function(){\n",
              "                            \n",
              "var gd = document.getElementById('3bf007e2-618f-4ba8-bf69-e59ded841135');\n",
              "var x = new MutationObserver(function (mutations, observer) {{\n",
              "        var display = window.getComputedStyle(gd).display;\n",
              "        if (!display || display === 'none') {{\n",
              "            console.log([gd, 'removed!']);\n",
              "            Plotly.purge(gd);\n",
              "            observer.disconnect();\n",
              "        }}\n",
              "}});\n",
              "\n",
              "// Listen for the removal of the full notebook cells\n",
              "var notebookContainer = gd.closest('#notebook-container');\n",
              "if (notebookContainer) {{\n",
              "    x.observe(notebookContainer, {childList: true});\n",
              "}}\n",
              "\n",
              "// Listen for the clearing of the current output cell\n",
              "var outputEl = gd.closest('.output');\n",
              "if (outputEl) {{\n",
              "    x.observe(outputEl, {childList: true});\n",
              "}}\n",
              "\n",
              "                        })                };                            </script>        </div>\n",
              "</body>\n",
              "</html>"
            ]
          },
          "metadata": {}
        }
      ]
    },
    {
      "cell_type": "code",
      "source": [
        "# 3: Trend of Transactions Over Time\n",
        "transactions_over_time = (transactions_df.groupby('TransactionDate')['TotalValue']\n",
        "                          .sum()\n",
        "                          .reset_index())\n",
        "transactions_over_time['TransactionDate'] = pd.to_datetime(transactions_over_time['TransactionDate'])\n",
        "transactions_over_time = transactions_over_time.sort_values('TransactionDate')\n",
        "fig3 = px.line(transactions_over_time, x='TransactionDate', y='TotalValue', title=\"Trend of Transactions Over Time\")\n",
        "fig3.show()"
      ],
      "metadata": {
        "id": "4rYHcRKooF-b",
        "colab": {
          "base_uri": "https://localhost:8080/",
          "height": 542
        },
        "outputId": "058d07af-3340-4766-a4c4-9cef42db5c44"
      },
      "execution_count": null,
      "outputs": [
        {
          "output_type": "display_data",
          "data": {
            "text/html": [
              "<html>\n",
              "<head><meta charset=\"utf-8\" /></head>\n",
              "<body>\n",
              "    <div>            <script src=\"https://cdnjs.cloudflare.com/ajax/libs/mathjax/2.7.5/MathJax.js?config=TeX-AMS-MML_SVG\"></script><script type=\"text/javascript\">if (window.MathJax && window.MathJax.Hub && window.MathJax.Hub.Config) {window.MathJax.Hub.Config({SVG: {font: \"STIX-Web\"}});}</script>                <script type=\"text/javascript\">window.PlotlyConfig = {MathJaxConfig: 'local'};</script>\n",
              "        <script charset=\"utf-8\" src=\"https://cdn.plot.ly/plotly-2.35.2.min.js\"></script>                <div id=\"1d90aa77-7e37-454b-910b-4a50056b195a\" class=\"plotly-graph-div\" style=\"height:525px; width:100%;\"></div>            <script type=\"text/javascript\">                                    window.PLOTLYENV=window.PLOTLYENV || {};                                    if (document.getElementById(\"1d90aa77-7e37-454b-910b-4a50056b195a\")) {                    Plotly.newPlot(                        \"1d90aa77-7e37-454b-910b-4a50056b195a\",                        [{\"hovertemplate\":\"TransactionDate=%{x}\\u003cbr\\u003eTotalValue=%{y}\\u003cextra\\u003e\\u003c\\u002fextra\\u003e\",\"legendgroup\":\"\",\"line\":{\"color\":\"#636efa\",\"dash\":\"solid\"},\"marker\":{\"symbol\":\"circle\"},\"mode\":\"lines\",\"name\":\"\",\"orientation\":\"v\",\"showlegend\":false,\"x\":[\"2023-12-30T15:29:12\",\"2023-12-31T03:27:43\",\"2023-12-31T06:53:54\",\"2023-12-31T15:44:04\",\"2024-01-01T03:54:19\",\"2024-01-01T10:21:22\",\"2024-01-01T14:29:52\",\"2024-01-01T16:46:56\",\"2024-01-02T11:26:51\",\"2024-01-02T11:54:22\",\"2024-01-02T15:02:39\",\"2024-01-02T19:11:34\",\"2024-01-03T02:43:36\",\"2024-01-03T04:06:49\",\"2024-01-03T16:57:09\",\"2024-01-03T18:25:39\",\"2024-01-04T07:47:38\",\"2024-01-04T14:19:41\",\"2024-01-04T16:40:50\",\"2024-01-04T21:05:07\",\"2024-01-05T13:14:07\",\"2024-01-05T18:43:06\",\"2024-01-06T13:22:36\",\"2024-01-06T21:49:35\",\"2024-01-06T22:00:35\",\"2024-01-07T09:51:12\",\"2024-01-07T14:19:49\",\"2024-01-07T16:11:55\",\"2024-01-08T11:31:27\",\"2024-01-08T13:41:10\",\"2024-01-08T16:14:35\",\"2024-01-09T11:00:50\",\"2024-01-09T11:36:08\",\"2024-01-09T13:32:17\",\"2024-01-09T16:35:54\",\"2024-01-11T06:02:11\",\"2024-01-11T09:47:21\",\"2024-01-11T14:19:36\",\"2024-01-12T03:22:30\",\"2024-01-12T10:17:10\",\"2024-01-12T17:34:27\",\"2024-01-12T20:20:37\",\"2024-01-13T00:48:20\",\"2024-01-13T04:52:09\",\"2024-01-13T09:31:27\",\"2024-01-13T10:46:55\",\"2024-01-13T11:31:31\",\"2024-01-14T03:22:21\",\"2024-01-14T04:59:39\",\"2024-01-15T07:06:38\",\"2024-01-16T00:42:19\",\"2024-01-16T11:22:42\",\"2024-01-16T15:56:05\",\"2024-01-16T18:52:43\",\"2024-01-17T01:36:03\",\"2024-01-17T03:47:03\",\"2024-01-17T09:48:56\",\"2024-01-17T10:01:00\",\"2024-01-17T12:40:30\",\"2024-01-17T18:31:55\",\"2024-01-17T19:40:55\",\"2024-01-18T01:32:18\",\"2024-01-18T09:04:29\",\"2024-01-18T15:08:21\",\"2024-01-18T16:04:46\",\"2024-01-19T03:12:55\",\"2024-01-20T04:23:56\",\"2024-01-20T04:52:14\",\"2024-01-20T12:30:32\",\"2024-01-20T17:46:34\",\"2024-01-21T08:08:41\",\"2024-01-21T13:21:23\",\"2024-01-21T22:41:36\",\"2024-01-22T02:25:06\",\"2024-01-22T14:14:26\",\"2024-01-22T19:36:33\",\"2024-01-22T19:40:43\",\"2024-01-23T07:39:44\",\"2024-01-23T12:53:51\",\"2024-01-24T02:35:57\",\"2024-01-24T06:58:00\",\"2024-01-24T09:21:15\",\"2024-01-24T16:03:16\",\"2024-01-24T18:23:07\",\"2024-01-24T21:50:37\",\"2024-01-25T09:29:44\",\"2024-01-25T14:28:34\",\"2024-01-26T05:19:40\",\"2024-01-26T22:34:43\",\"2024-01-27T06:14:19\",\"2024-01-27T16:35:59\",\"2024-01-27T21:34:25\",\"2024-01-28T04:10:05\",\"2024-01-28T04:32:55\",\"2024-01-28T09:13:22\",\"2024-01-28T18:40:51\",\"2024-01-29T11:31:41\",\"2024-01-29T19:25:10\",\"2024-01-30T00:57:29\",\"2024-01-30T13:30:24\",\"2024-01-30T17:23:03\",\"2024-01-30T22:40:57\",\"2024-01-31T01:11:48\",\"2024-01-31T07:07:22\",\"2024-01-31T08:26:51\",\"2024-01-31T09:08:09\",\"2024-01-31T11:17:38\",\"2024-01-31T14:10:21\",\"2024-01-31T15:36:46\",\"2024-01-31T19:34:22\",\"2024-01-31T19:48:04\",\"2024-02-01T08:58:02\",\"2024-02-01T14:24:48\",\"2024-02-01T15:50:43\",\"2024-02-01T19:05:13\",\"2024-02-02T02:54:00\",\"2024-02-02T14:46:36\",\"2024-02-03T08:15:00\",\"2024-02-04T00:31:54\",\"2024-02-04T07:33:04\",\"2024-02-04T07:44:22\",\"2024-02-04T15:35:27\",\"2024-02-05T07:45:31\",\"2024-02-05T18:18:43\",\"2024-02-05T19:46:58\",\"2024-02-06T03:27:17\",\"2024-02-06T14:46:43\",\"2024-02-06T15:02:30\",\"2024-02-06T16:22:41\",\"2024-02-06T22:06:42\",\"2024-02-07T01:32:26\",\"2024-02-07T04:03:23\",\"2024-02-07T14:37:55\",\"2024-02-07T20:28:19\",\"2024-02-08T03:30:38\",\"2024-02-08T14:20:05\",\"2024-02-08T17:57:52\",\"2024-02-08T22:57:38\",\"2024-02-10T12:35:35\",\"2024-02-12T03:10:36\",\"2024-02-12T08:14:34\",\"2024-02-12T15:27:25\",\"2024-02-12T17:27:50\",\"2024-02-13T06:45:11\",\"2024-02-13T16:15:35\",\"2024-02-13T23:56:36\",\"2024-02-14T14:25:57\",\"2024-02-15T04:29:17\",\"2024-02-15T07:07:11\",\"2024-02-15T17:18:56\",\"2024-02-16T11:29:31\",\"2024-02-16T14:52:24\",\"2024-02-16T19:58:26\",\"2024-02-17T04:23:02\",\"2024-02-17T18:50:52\",\"2024-02-18T00:12:39\",\"2024-02-18T02:50:37\",\"2024-02-18T05:49:59\",\"2024-02-20T06:00:07\",\"2024-02-20T09:22:52\",\"2024-02-21T04:21:27\",\"2024-02-21T11:11:20\",\"2024-02-21T15:52:59\",\"2024-02-21T18:51:05\",\"2024-02-21T23:48:42\",\"2024-02-22T14:01:23\",\"2024-02-22T15:13:43\",\"2024-02-22T18:44:05\",\"2024-02-22T21:46:45\",\"2024-02-23T05:08:16\",\"2024-02-23T13:28:08\",\"2024-02-24T09:30:35\",\"2024-02-24T12:09:53\",\"2024-02-24T20:08:07\",\"2024-02-25T03:48:50\",\"2024-02-25T14:08:11\",\"2024-02-25T18:56:28\",\"2024-02-27T16:09:00\",\"2024-02-27T16:51:17\",\"2024-02-27T18:25:58\",\"2024-02-27T22:16:22\",\"2024-02-28T06:05:22\",\"2024-02-28T07:44:21\",\"2024-02-28T10:16:35\",\"2024-02-28T14:14:44\",\"2024-02-28T16:08:32\",\"2024-02-29T01:45:41\",\"2024-02-29T03:49:04\",\"2024-03-01T16:19:14\",\"2024-03-02T16:59:31\",\"2024-03-03T06:11:38\",\"2024-03-03T09:40:08\",\"2024-03-04T04:39:40\",\"2024-03-04T05:11:01\",\"2024-03-04T22:09:57\",\"2024-03-05T04:58:09\",\"2024-03-05T10:46:53\",\"2024-03-05T18:21:47\",\"2024-03-05T23:39:40\",\"2024-03-06T01:55:48\",\"2024-03-07T03:54:06\",\"2024-03-07T21:09:48\",\"2024-03-08T09:48:14\",\"2024-03-09T04:58:40\",\"2024-03-09T09:06:10\",\"2024-03-10T02:20:47\",\"2024-03-10T02:22:50\",\"2024-03-10T12:10:40\",\"2024-03-10T12:56:52\",\"2024-03-10T16:04:33\",\"2024-03-11T03:22:29\",\"2024-03-11T09:25:22\",\"2024-03-11T10:55:51\",\"2024-03-11T15:12:50\",\"2024-03-11T17:07:12\",\"2024-03-12T03:33:00\",\"2024-03-12T11:15:01\",\"2024-03-12T15:48:24\",\"2024-03-12T21:51:40\",\"2024-03-13T02:57:13\",\"2024-03-13T04:00:25\",\"2024-03-13T06:04:36\",\"2024-03-13T22:33:34\",\"2024-03-14T08:10:08\",\"2024-03-14T11:55:39\",\"2024-03-14T17:22:52\",\"2024-03-15T04:08:59\",\"2024-03-15T12:05:37\",\"2024-03-16T04:08:29\",\"2024-03-16T16:23:59\",\"2024-03-16T17:26:03\",\"2024-03-18T04:33:39\",\"2024-03-18T06:01:51\",\"2024-03-18T09:16:33\",\"2024-03-19T00:50:12\",\"2024-03-19T01:04:53\",\"2024-03-19T16:14:11\",\"2024-03-20T02:37:13\",\"2024-03-20T10:30:55\",\"2024-03-20T23:29:34\",\"2024-03-21T15:10:10\",\"2024-03-22T19:50:03\",\"2024-03-23T00:07:54\",\"2024-03-23T02:59:36\",\"2024-03-23T05:53:50\",\"2024-03-23T05:58:54\",\"2024-03-23T08:29:57\",\"2024-03-24T16:37:25\",\"2024-03-25T07:41:04\",\"2024-03-25T13:47:30\",\"2024-03-26T00:51:36\",\"2024-03-26T18:01:53\",\"2024-03-26T20:30:49\",\"2024-03-26T22:55:37\",\"2024-03-27T07:31:28\",\"2024-03-28T04:39:16\",\"2024-03-28T17:43:38\",\"2024-03-28T19:16:21\",\"2024-03-29T01:28:17\",\"2024-03-29T07:04:02\",\"2024-03-29T14:35:12\",\"2024-03-30T09:01:31\",\"2024-03-30T21:17:42\",\"2024-03-30T23:37:50\",\"2024-03-31T03:46:52\",\"2024-03-31T16:50:02\",\"2024-03-31T19:29:30\",\"2024-03-31T22:56:31\",\"2024-04-01T07:30:59\",\"2024-04-01T10:10:17\",\"2024-04-01T14:59:11\",\"2024-04-02T00:16:13\",\"2024-04-02T02:03:25\",\"2024-04-02T02:23:50\",\"2024-04-02T07:44:01\",\"2024-04-03T03:46:50\",\"2024-04-03T12:44:52\",\"2024-04-03T21:46:38\",\"2024-04-04T03:50:45\",\"2024-04-04T14:19:01\",\"2024-04-05T03:20:25\",\"2024-04-05T04:56:24\",\"2024-04-05T13:05:32\",\"2024-04-06T03:41:22\",\"2024-04-06T09:26:36\",\"2024-04-06T10:30:48\",\"2024-04-06T10:33:06\",\"2024-04-06T16:23:53\",\"2024-04-07T14:32:58\",\"2024-04-07T16:46:45\",\"2024-04-08T00:01:00\",\"2024-04-08T10:34:10\",\"2024-04-08T20:47:01\",\"2024-04-09T07:28:17\",\"2024-04-09T07:47:04\",\"2024-04-09T09:14:53\",\"2024-04-09T16:45:10\",\"2024-04-09T18:48:11\",\"2024-04-11T01:44:41\",\"2024-04-11T09:53:33\",\"2024-04-12T12:07:07\",\"2024-04-12T14:44:42\",\"2024-04-13T02:29:41\",\"2024-04-13T20:04:25\",\"2024-04-14T01:19:59\",\"2024-04-14T11:32:12\",\"2024-04-14T12:03:56\",\"2024-04-14T14:12:54\",\"2024-04-14T23:09:04\",\"2024-04-15T01:10:23\",\"2024-04-16T21:50:49\",\"2024-04-17T00:48:43\",\"2024-04-17T01:46:23\",\"2024-04-18T14:56:50\",\"2024-04-19T05:04:38\",\"2024-04-20T08:12:59\",\"2024-04-20T22:54:54\",\"2024-04-21T10:52:24\",\"2024-04-21T19:52:01\",\"2024-04-21T22:39:45\",\"2024-04-22T01:00:36\",\"2024-04-22T18:28:54\",\"2024-04-23T06:38:57\",\"2024-04-23T11:07:18\",\"2024-04-23T17:09:27\",\"2024-04-23T22:46:40\",\"2024-04-24T00:16:33\",\"2024-04-24T05:30:39\",\"2024-04-25T03:49:28\",\"2024-04-25T07:38:55\",\"2024-04-25T14:43:34\",\"2024-04-25T18:50:36\",\"2024-04-25T22:21:27\",\"2024-04-26T07:31:56\",\"2024-04-26T11:22:42\",\"2024-04-26T11:26:53\",\"2024-04-26T14:16:50\",\"2024-04-26T17:37:36\",\"2024-04-26T22:10:35\",\"2024-04-27T01:00:06\",\"2024-04-27T05:29:48\",\"2024-04-27T19:06:20\",\"2024-04-27T20:02:17\",\"2024-04-28T02:14:05\",\"2024-04-28T10:46:07\",\"2024-04-28T14:16:10\",\"2024-04-28T14:38:55\",\"2024-04-28T20:01:47\",\"2024-04-29T10:25:40\",\"2024-04-29T19:03:50\",\"2024-04-29T19:45:24\",\"2024-04-30T08:50:38\",\"2024-04-30T14:23:08\",\"2024-04-30T17:03:34\",\"2024-05-02T00:25:40\",\"2024-05-02T00:31:22\",\"2024-05-02T14:16:38\",\"2024-05-03T03:39:17\",\"2024-05-03T18:35:03\",\"2024-05-03T21:36:31\",\"2024-05-04T11:33:18\",\"2024-05-04T20:38:52\",\"2024-05-05T05:01:18\",\"2024-05-05T05:32:27\",\"2024-05-05T13:03:41\",\"2024-05-06T07:02:05\",\"2024-05-06T13:06:06\",\"2024-05-06T18:05:22\",\"2024-05-06T19:24:04\",\"2024-05-06T23:15:01\",\"2024-05-07T01:08:19\",\"2024-05-07T03:11:44\",\"2024-05-08T03:42:39\",\"2024-05-08T15:48:20\",\"2024-05-08T18:21:34\",\"2024-05-08T21:17:10\",\"2024-05-08T22:24:58\",\"2024-05-08T22:54:06\",\"2024-05-09T03:14:51\",\"2024-05-09T03:52:43\",\"2024-05-09T09:15:59\",\"2024-05-09T16:33:17\",\"2024-05-09T17:32:28\",\"2024-05-09T17:38:43\",\"2024-05-10T03:22:49\",\"2024-05-11T07:45:26\",\"2024-05-11T17:59:31\",\"2024-05-12T11:53:53\",\"2024-05-12T12:53:40\",\"2024-05-13T07:24:49\",\"2024-05-13T14:33:44\",\"2024-05-14T14:21:56\",\"2024-05-14T23:14:59\",\"2024-05-15T00:22:27\",\"2024-05-15T10:49:01\",\"2024-05-15T16:06:03\",\"2024-05-15T23:20:02\",\"2024-05-16T01:56:32\",\"2024-05-16T03:37:41\",\"2024-05-16T09:05:38\",\"2024-05-16T11:23:37\",\"2024-05-16T16:00:40\",\"2024-05-18T05:03:08\",\"2024-05-18T16:57:20\",\"2024-05-19T06:37:56\",\"2024-05-19T18:25:44\",\"2024-05-20T06:17:43\",\"2024-05-20T10:52:21\",\"2024-05-20T10:53:24\",\"2024-05-20T12:30:20\",\"2024-05-20T13:15:04\",\"2024-05-21T03:08:56\",\"2024-05-21T09:00:57\",\"2024-05-22T03:47:06\",\"2024-05-22T04:00:43\",\"2024-05-22T21:58:39\",\"2024-05-23T19:17:40\",\"2024-05-24T09:32:01\",\"2024-05-24T09:36:07\",\"2024-05-24T16:11:23\",\"2024-05-24T22:54:41\",\"2024-05-25T17:44:48\",\"2024-05-25T20:16:42\",\"2024-05-25T22:37:50\",\"2024-05-26T05:56:36\",\"2024-05-26T08:08:36\",\"2024-05-27T09:32:58\",\"2024-05-27T15:48:49\",\"2024-05-27T22:23:54\",\"2024-05-28T00:57:27\",\"2024-05-28T01:25:36\",\"2024-05-28T10:52:05\",\"2024-05-28T14:47:15\",\"2024-05-28T14:48:17\",\"2024-05-28T17:40:20\",\"2024-05-28T18:07:55\",\"2024-05-29T17:04:29\",\"2024-05-30T00:00:01\",\"2024-05-30T03:34:49\",\"2024-05-30T18:15:28\",\"2024-06-02T10:00:57\",\"2024-06-02T13:27:11\",\"2024-06-02T17:24:55\",\"2024-06-03T19:17:36\",\"2024-06-03T21:07:56\",\"2024-06-03T23:59:14\",\"2024-06-04T00:03:44\",\"2024-06-04T02:02:24\",\"2024-06-04T02:15:24\",\"2024-06-04T06:32:15\",\"2024-06-04T21:07:05\",\"2024-06-05T01:19:28\",\"2024-06-07T08:52:46\",\"2024-06-08T07:23:21\",\"2024-06-08T14:47:32\",\"2024-06-09T15:20:30\",\"2024-06-10T11:46:13\",\"2024-06-11T02:31:18\",\"2024-06-11T15:51:14\",\"2024-06-11T20:36:32\",\"2024-06-11T23:59:08\",\"2024-06-12T01:39:05\",\"2024-06-12T20:54:36\",\"2024-06-12T22:33:14\",\"2024-06-12T22:59:30\",\"2024-06-13T02:56:04\",\"2024-06-13T07:28:26\",\"2024-06-13T09:13:19\",\"2024-06-13T10:35:07\",\"2024-06-13T12:58:37\",\"2024-06-13T22:53:33\",\"2024-06-14T08:41:48\",\"2024-06-14T11:41:17\",\"2024-06-14T21:37:11\",\"2024-06-15T17:12:53\",\"2024-06-16T05:24:04\",\"2024-06-16T08:22:06\",\"2024-06-16T15:47:00\",\"2024-06-16T21:51:16\",\"2024-06-17T14:12:01\",\"2024-06-18T10:55:39\",\"2024-06-19T02:53:27\",\"2024-06-19T06:55:10\",\"2024-06-19T07:16:55\",\"2024-06-19T15:07:10\",\"2024-06-19T17:52:26\",\"2024-06-19T23:01:44\",\"2024-06-20T04:11:50\",\"2024-06-20T04:13:03\",\"2024-06-20T19:04:58\",\"2024-06-21T02:02:45\",\"2024-06-21T07:59:57\",\"2024-06-21T15:09:45\",\"2024-06-22T14:35:43\",\"2024-06-22T20:59:16\",\"2024-06-22T21:26:26\",\"2024-06-23T14:05:49\",\"2024-06-24T10:10:17\",\"2024-06-25T22:10:47\",\"2024-06-25T22:40:29\",\"2024-06-27T12:03:16\",\"2024-06-27T19:13:16\",\"2024-06-27T23:39:15\",\"2024-06-29T11:39:11\",\"2024-06-29T13:17:07\",\"2024-06-30T00:11:05\",\"2024-06-30T08:52:10\",\"2024-06-30T15:44:26\",\"2024-06-30T22:09:50\",\"2024-07-01T00:11:31\",\"2024-07-01T04:53:47\",\"2024-07-01T13:07:47\",\"2024-07-01T14:11:51\",\"2024-07-02T05:35:21\",\"2024-07-02T06:30:26\",\"2024-07-02T09:34:25\",\"2024-07-03T07:10:58\",\"2024-07-03T07:27:54\",\"2024-07-04T05:29:36\",\"2024-07-05T10:29:31\",\"2024-07-05T11:53:41\",\"2024-07-05T23:04:17\",\"2024-07-05T23:41:15\",\"2024-07-06T00:13:42\",\"2024-07-06T11:32:13\",\"2024-07-06T23:53:24\",\"2024-07-07T12:28:18\",\"2024-07-07T23:53:12\",\"2024-07-08T16:06:55\",\"2024-07-08T19:55:52\",\"2024-07-09T02:53:14\",\"2024-07-10T02:32:56\",\"2024-07-10T07:04:02\",\"2024-07-10T08:49:17\",\"2024-07-10T19:53:08\",\"2024-07-11T12:42:08\",\"2024-07-11T15:32:56\",\"2024-07-11T17:39:59\",\"2024-07-11T20:27:51\",\"2024-07-12T08:20:42\",\"2024-07-12T10:03:14\",\"2024-07-12T10:18:13\",\"2024-07-12T10:33:55\",\"2024-07-12T13:17:08\",\"2024-07-12T13:34:04\",\"2024-07-12T22:15:21\",\"2024-07-13T08:15:45\",\"2024-07-13T13:50:21\",\"2024-07-14T06:50:22\",\"2024-07-14T07:45:15\",\"2024-07-14T10:29:11\",\"2024-07-14T11:42:29\",\"2024-07-14T14:57:44\",\"2024-07-14T19:37:54\",\"2024-07-15T07:02:39\",\"2024-07-15T16:33:41\",\"2024-07-15T20:36:28\",\"2024-07-16T14:50:07\",\"2024-07-16T22:33:47\",\"2024-07-17T03:25:18\",\"2024-07-17T07:26:30\",\"2024-07-17T08:52:39\",\"2024-07-18T00:10:42\",\"2024-07-18T02:51:22\",\"2024-07-18T11:21:41\",\"2024-07-18T20:01:21\",\"2024-07-19T09:25:20\",\"2024-07-19T10:31:02\",\"2024-07-19T10:56:13\",\"2024-07-19T14:35:31\",\"2024-07-20T10:39:52\",\"2024-07-20T11:22:47\",\"2024-07-20T16:04:49\",\"2024-07-21T03:18:31\",\"2024-07-21T04:34:35\",\"2024-07-22T05:37:22\",\"2024-07-22T09:54:09\",\"2024-07-22T10:55:09\",\"2024-07-22T23:34:18\",\"2024-07-23T09:15:48\",\"2024-07-23T12:30:30\",\"2024-07-23T20:01:12\",\"2024-07-24T00:20:52\",\"2024-07-24T07:11:44\",\"2024-07-24T17:40:37\",\"2024-07-24T23:11:16\",\"2024-07-25T02:34:05\",\"2024-07-25T15:20:14\",\"2024-07-25T17:05:14\",\"2024-07-26T00:21:59\",\"2024-07-26T15:47:31\",\"2024-07-26T21:44:47\",\"2024-07-27T05:05:37\",\"2024-07-28T00:09:49\",\"2024-07-28T06:29:59\",\"2024-07-29T06:11:19\",\"2024-07-29T06:59:14\",\"2024-07-29T19:28:48\",\"2024-07-30T08:34:58\",\"2024-07-30T11:43:57\",\"2024-07-30T12:47:07\",\"2024-07-30T21:37:27\",\"2024-07-30T23:32:12\",\"2024-07-31T05:19:54\",\"2024-07-31T21:34:31\",\"2024-08-01T14:20:03\",\"2024-08-02T03:34:50\",\"2024-08-02T08:13:23\",\"2024-08-02T09:54:08\",\"2024-08-02T11:13:00\",\"2024-08-02T13:45:45\",\"2024-08-02T21:41:32\",\"2024-08-03T06:21:11\",\"2024-08-03T19:15:23\",\"2024-08-03T21:42:27\",\"2024-08-03T22:08:12\",\"2024-08-03T23:04:47\",\"2024-08-04T12:38:25\",\"2024-08-04T15:35:01\",\"2024-08-05T07:35:43\",\"2024-08-05T13:12:14\",\"2024-08-05T20:03:50\",\"2024-08-05T22:39:54\",\"2024-08-06T14:37:15\",\"2024-08-06T20:12:35\",\"2024-08-07T01:34:06\",\"2024-08-07T09:24:39\",\"2024-08-07T22:11:19\",\"2024-08-08T05:40:02\",\"2024-08-08T19:49:54\",\"2024-08-09T08:58:30\",\"2024-08-09T17:24:33\",\"2024-08-10T00:39:50\",\"2024-08-10T15:04:27\",\"2024-08-11T00:11:15\",\"2024-08-11T04:10:13\",\"2024-08-11T07:01:49\",\"2024-08-11T12:13:35\",\"2024-08-12T05:20:19\",\"2024-08-13T03:22:31\",\"2024-08-13T10:30:05\",\"2024-08-13T10:42:48\",\"2024-08-13T22:51:21\",\"2024-08-13T23:52:47\",\"2024-08-14T02:02:56\",\"2024-08-15T00:55:59\",\"2024-08-15T03:03:51\",\"2024-08-15T03:06:41\",\"2024-08-15T10:18:31\",\"2024-08-15T13:06:00\",\"2024-08-15T15:59:47\",\"2024-08-15T20:46:42\",\"2024-08-15T21:51:12\",\"2024-08-16T02:29:10\",\"2024-08-16T08:44:30\",\"2024-08-16T19:39:33\",\"2024-08-16T19:51:40\",\"2024-08-17T12:06:08\",\"2024-08-18T00:51:18\",\"2024-08-18T21:30:57\",\"2024-08-19T00:45:26\",\"2024-08-19T04:22:17\",\"2024-08-19T08:16:57\",\"2024-08-20T02:24:47\",\"2024-08-20T05:30:54\",\"2024-08-20T15:26:04\",\"2024-08-22T03:25:32\",\"2024-08-22T05:45:56\",\"2024-08-22T23:44:44\",\"2024-08-23T02:14:14\",\"2024-08-23T09:06:06\",\"2024-08-23T09:19:16\",\"2024-08-23T15:53:27\",\"2024-08-23T23:45:25\",\"2024-08-24T01:19:18\",\"2024-08-24T09:50:55\",\"2024-08-24T18:54:04\",\"2024-08-24T19:10:31\",\"2024-08-25T05:43:29\",\"2024-08-25T08:05:44\",\"2024-08-25T12:38:23\",\"2024-08-25T16:04:54\",\"2024-08-26T13:10:31\",\"2024-08-26T15:16:49\",\"2024-08-27T05:49:59\",\"2024-08-27T19:54:49\",\"2024-08-27T22:57:39\",\"2024-08-28T02:11:58\",\"2024-08-28T04:01:48\",\"2024-08-28T05:03:00\",\"2024-08-28T19:56:53\",\"2024-08-28T20:52:33\",\"2024-08-29T14:05:41\",\"2024-08-29T18:52:57\",\"2024-08-30T06:42:27\",\"2024-08-30T20:51:44\",\"2024-08-31T00:38:43\",\"2024-08-31T18:20:26\",\"2024-08-31T22:33:10\",\"2024-09-01T11:18:51\",\"2024-09-01T18:30:22\",\"2024-09-01T21:40:35\",\"2024-09-03T03:11:42\",\"2024-09-03T03:40:56\",\"2024-09-03T07:19:28\",\"2024-09-03T19:50:06\",\"2024-09-04T02:55:21\",\"2024-09-04T11:39:30\",\"2024-09-04T16:19:42\",\"2024-09-04T20:49:41\",\"2024-09-04T22:08:05\",\"2024-09-05T07:22:52\",\"2024-09-05T08:46:22\",\"2024-09-06T06:43:42\",\"2024-09-06T12:12:21\",\"2024-09-06T18:39:07\",\"2024-09-06T20:35:41\",\"2024-09-08T08:52:51\",\"2024-09-08T14:32:15\",\"2024-09-08T16:26:03\",\"2024-09-09T04:31:40\",\"2024-09-09T19:42:23\",\"2024-09-10T09:50:48\",\"2024-09-10T12:40:27\",\"2024-09-11T11:58:00\",\"2024-09-11T19:59:24\",\"2024-09-11T20:41:10\",\"2024-09-12T04:48:36\",\"2024-09-12T09:25:47\",\"2024-09-12T09:37:09\",\"2024-09-12T13:59:35\",\"2024-09-13T07:08:30\",\"2024-09-13T08:28:58\",\"2024-09-13T18:57:35\",\"2024-09-13T23:20:18\",\"2024-09-14T15:29:16\",\"2024-09-15T03:50:57\",\"2024-09-16T02:11:37\",\"2024-09-16T21:24:16\",\"2024-09-16T22:10:13\",\"2024-09-16T22:57:51\",\"2024-09-17T03:59:29\",\"2024-09-17T07:53:30\",\"2024-09-17T09:01:18\",\"2024-09-17T15:12:23\",\"2024-09-18T05:00:38\",\"2024-09-18T09:38:21\",\"2024-09-18T23:31:26\",\"2024-09-19T03:29:48\",\"2024-09-19T14:18:33\",\"2024-09-19T14:24:09\",\"2024-09-20T04:55:33\",\"2024-09-20T08:12:56\",\"2024-09-21T01:39:03\",\"2024-09-21T05:32:31\",\"2024-09-21T09:44:39\",\"2024-09-21T14:11:57\",\"2024-09-21T21:57:20\",\"2024-09-21T22:21:26\",\"2024-09-22T00:00:09\",\"2024-09-22T06:13:59\",\"2024-09-22T07:51:55\",\"2024-09-22T23:11:50\",\"2024-09-23T04:35:24\",\"2024-09-23T06:44:40\",\"2024-09-23T16:46:01\",\"2024-09-23T20:32:31\",\"2024-09-24T16:29:36\",\"2024-09-24T17:15:16\",\"2024-09-24T21:15:21\",\"2024-09-25T01:45:49\",\"2024-09-25T01:50:13\",\"2024-09-25T06:56:25\",\"2024-09-25T19:36:27\",\"2024-09-25T20:31:49\",\"2024-09-26T16:10:17\",\"2024-09-26T17:22:30\",\"2024-09-26T21:52:56\",\"2024-09-26T23:20:59\",\"2024-09-26T23:48:07\",\"2024-09-27T23:40:32\",\"2024-09-28T06:07:52\",\"2024-09-28T22:39:52\",\"2024-09-29T10:16:02\",\"2024-09-29T13:03:14\",\"2024-09-29T16:14:59\",\"2024-09-29T16:20:32\",\"2024-09-30T00:40:17\",\"2024-09-30T05:29:31\",\"2024-09-30T10:45:06\",\"2024-09-30T11:36:49\",\"2024-09-30T14:42:16\",\"2024-09-30T17:00:33\",\"2024-09-30T18:17:00\",\"2024-09-30T23:30:02\",\"2024-10-01T04:39:43\",\"2024-10-01T05:57:09\",\"2024-10-01T14:05:25\",\"2024-10-01T17:22:05\",\"2024-10-02T16:00:54\",\"2024-10-02T16:46:50\",\"2024-10-02T22:07:40\",\"2024-10-02T22:44:16\",\"2024-10-03T04:33:16\",\"2024-10-03T20:53:23\",\"2024-10-04T01:18:02\",\"2024-10-04T18:31:12\",\"2024-10-04T20:42:53\",\"2024-10-04T20:44:00\",\"2024-10-05T02:02:48\",\"2024-10-05T06:56:28\",\"2024-10-06T06:02:45\",\"2024-10-07T04:07:35\",\"2024-10-07T06:38:36\",\"2024-10-07T07:58:38\",\"2024-10-07T14:56:13\",\"2024-10-07T17:48:28\",\"2024-10-07T21:52:59\",\"2024-10-08T06:27:20\",\"2024-10-08T19:57:08\",\"2024-10-08T21:31:59\",\"2024-10-08T23:58:14\",\"2024-10-09T13:52:57\",\"2024-10-10T04:15:26\",\"2024-10-10T12:25:03\",\"2024-10-11T20:08:31\",\"2024-10-11T21:32:34\",\"2024-10-12T03:12:30\",\"2024-10-12T03:25:58\",\"2024-10-12T04:57:16\",\"2024-10-12T06:41:00\",\"2024-10-12T08:20:33\",\"2024-10-13T16:15:16\",\"2024-10-14T15:50:39\",\"2024-10-15T18:21:07\",\"2024-10-16T01:04:33\",\"2024-10-16T06:10:29\",\"2024-10-17T00:45:17\",\"2024-10-17T02:10:15\",\"2024-10-19T00:46:52\",\"2024-10-20T16:20:50\",\"2024-10-21T04:58:32\",\"2024-10-21T06:20:03\",\"2024-10-21T12:47:53\",\"2024-10-21T20:29:28\",\"2024-10-22T02:45:04\",\"2024-10-22T08:13:50\",\"2024-10-22T12:08:25\",\"2024-10-22T12:54:23\",\"2024-10-22T21:55:48\",\"2024-10-23T06:09:51\",\"2024-10-23T16:23:33\",\"2024-10-23T16:42:32\",\"2024-10-23T16:57:26\",\"2024-10-23T17:24:22\",\"2024-10-24T00:10:41\",\"2024-10-24T08:30:27\",\"2024-10-24T16:28:30\",\"2024-10-26T00:01:58\",\"2024-10-27T05:26:27\",\"2024-10-27T13:50:07\",\"2024-10-28T14:36:09\",\"2024-10-29T22:39:18\",\"2024-10-30T08:16:03\",\"2024-10-30T12:42:57\",\"2024-11-01T06:54:57\",\"2024-11-01T09:20:07\",\"2024-11-01T12:16:45\",\"2024-11-01T23:04:56\",\"2024-11-02T01:55:05\",\"2024-11-02T10:20:14\",\"2024-11-02T12:20:39\",\"2024-11-02T17:04:16\",\"2024-11-02T19:35:08\",\"2024-11-02T20:33:22\",\"2024-11-03T05:30:39\",\"2024-11-04T00:30:22\",\"2024-11-04T03:30:07\",\"2024-11-04T07:25:57\",\"2024-11-05T07:32:47\",\"2024-11-07T01:47:33\",\"2024-11-07T02:48:08\",\"2024-11-08T10:22:51\",\"2024-11-08T12:43:10\",\"2024-11-08T14:50:40\",\"2024-11-08T18:02:09\",\"2024-11-08T20:46:29\",\"2024-11-09T09:07:36\",\"2024-11-09T20:42:09\",\"2024-11-10T08:32:31\",\"2024-11-10T10:56:19\",\"2024-11-10T18:24:04\",\"2024-11-10T19:32:15\",\"2024-11-10T22:04:36\",\"2024-11-11T03:36:18\",\"2024-11-11T10:44:12\",\"2024-11-11T16:53:21\",\"2024-11-13T04:56:27\",\"2024-11-13T14:33:38\",\"2024-11-13T17:36:31\",\"2024-11-14T13:58:43\",\"2024-11-15T23:35:14\",\"2024-11-16T15:45:25\",\"2024-11-16T18:14:23\",\"2024-11-17T04:21:44\",\"2024-11-17T06:14:00\",\"2024-11-17T17:56:48\",\"2024-11-20T09:53:42\",\"2024-11-21T12:52:03\",\"2024-11-22T19:56:10\",\"2024-11-24T11:49:48\",\"2024-11-24T17:22:38\",\"2024-11-26T07:35:05\",\"2024-11-27T05:40:32\",\"2024-11-27T08:06:10\",\"2024-11-27T10:42:19\",\"2024-11-27T17:12:27\",\"2024-11-27T20:42:52\",\"2024-11-28T19:01:58\",\"2024-11-29T19:49:24\",\"2024-11-29T23:39:00\",\"2024-11-30T07:11:48\",\"2024-12-01T20:44:37\",\"2024-12-01T22:55:38\",\"2024-12-03T01:41:41\",\"2024-12-03T12:54:48\",\"2024-12-03T17:26:43\",\"2024-12-03T18:01:55\",\"2024-12-03T21:22:02\",\"2024-12-03T21:30:15\",\"2024-12-04T20:50:51\",\"2024-12-05T01:12:30\",\"2024-12-05T07:49:45\",\"2024-12-05T17:47:19\",\"2024-12-06T01:59:41\",\"2024-12-06T16:22:54\",\"2024-12-06T19:03:54\",\"2024-12-07T12:23:24\",\"2024-12-07T17:57:40\",\"2024-12-08T09:46:41\",\"2024-12-08T14:38:23\",\"2024-12-09T11:44:44\",\"2024-12-09T14:58:44\",\"2024-12-10T01:50:20\",\"2024-12-10T06:40:49\",\"2024-12-10T16:00:56\",\"2024-12-10T21:53:30\",\"2024-12-11T03:05:50\",\"2024-12-11T13:46:30\",\"2024-12-11T17:46:24\",\"2024-12-12T03:38:36\",\"2024-12-12T12:17:38\",\"2024-12-12T13:59:40\",\"2024-12-12T18:55:55\",\"2024-12-12T18:56:02\",\"2024-12-13T17:21:14\",\"2024-12-13T21:18:19\",\"2024-12-14T00:46:19\",\"2024-12-15T00:35:54\",\"2024-12-15T01:23:26\",\"2024-12-15T03:43:35\",\"2024-12-15T04:43:29\",\"2024-12-15T21:18:12\",\"2024-12-16T03:31:07\",\"2024-12-16T09:49:40\",\"2024-12-16T14:32:21\",\"2024-12-16T17:36:31\",\"2024-12-17T04:05:00\",\"2024-12-17T13:01:28\",\"2024-12-17T19:17:17\",\"2024-12-17T22:52:47\",\"2024-12-18T04:06:47\",\"2024-12-18T04:17:20\",\"2024-12-18T11:46:16\",\"2024-12-18T17:13:17\",\"2024-12-18T18:28:33\",\"2024-12-19T17:58:21\",\"2024-12-21T00:45:52\",\"2024-12-21T02:16:46\",\"2024-12-22T17:19:08\",\"2024-12-23T14:13:52\",\"2024-12-23T18:22:03\",\"2024-12-23T18:36:04\",\"2024-12-23T23:09:50\",\"2024-12-24T11:40:24\",\"2024-12-24T20:00:42\",\"2024-12-24T23:45:11\",\"2024-12-25T00:52:54\",\"2024-12-25T08:03:34\",\"2024-12-25T09:53:39\",\"2024-12-25T21:16:21\",\"2024-12-26T01:49:16\",\"2024-12-26T02:30:22\",\"2024-12-26T03:09:48\",\"2024-12-26T06:46:12\",\"2024-12-26T14:40:03\",\"2024-12-26T21:34:07\",\"2024-12-27T17:31:24\",\"2024-12-27T18:20:31\",\"2024-12-28T11:00:00\"],\"xaxis\":\"x\",\"y\":[313.92,958.8,1585.36,911.44,147.95,366.07,319.2,635.72,132.36,456.28,287.07,942.32,531.02,242.64,1417.16,33.59,420.15,299.93,1464.28,606.4,458.12,591.8,277.86,798.68,1249.2,447.23,32.16,916.24,165.3,66.32,454.53,1825.12,1341.69,313.92,366.07,196.4,294.44,1312.95,100.77,1541.48,630.48,201.62,1762.8,456.8,350.13,157.62,1322.1,1252.11,254.72,1212.8,977.26,284.62,1044.8,147.95,134.36,437.65,488.63,1138.32,114.2,318.66,719.1,195.48,330.6,942.32,638.68,114.6,363.96,902.04,606.4,1287.93,132.64,886.74,1044.8,834.74,427.61,303.2,894.68,1122.48,668.85,429.29,1138.48,114.2,1213.2,100.77,306.38,1585.36,958.8,128.5,132.36,441.82,372.55,1320.2,396.34,1357.26,700.26,171.9,257.52,1585.36,922.41,1287.87,338.6,57.3,840.3,875.3,855.22,599.86,675.82,337.91,671.68,16.08,30.59,195.48,396.34,939.54,66.32,417.37,509.44,509.44,719.1,883.64,942.32,891.8,1007.52,1493.28,1669.48,158.93,1464.28,1747.56,1099.76,447.34,472.86,156.96,330.05,111.98,337.91,354.29,147.22,147.22,488.63,1341.69,443.85,1669.48,894.68,706.74,1214.0,1496.64,1038.9,706.74,1300.92,1617.6,55.99,64.32,48.69,1249.2,916.24,306.38,122.36,677.32,912.56,437.65,195.48,637.32,627.84,833.58,159.6,95.69,840.3,295.9,111.98,858.62,443.85,100.81,452.42,758.88,61.18,456.28,1249.05,455.72,514.12,708.58,295.9,295.58,770.74,293.7,1496.64,1665.6,167.97,1287.93,1182.32,916.24,257.06,164.72,389.2,894.68,958.8,192.75,942.32,470.88,1300.04,257.0,942.32,580.34,306.38,1160.68,195.48,853.86,126.34,88.24,342.6,1722.36,128.76,1099.76,252.68,939.54,527.1,385.59,916.24,1007.52,1541.48,436.89,607.0,1044.8,1680.6,171.9,274.94,55.99,861.18,1291.77,922.41,293.7,155.65,64.32,167.97,201.62,337.91,337.22,342.6,229.2,389.2,132.36,902.04,100.77,80.97,662.73,275.08,137.54,891.8,158.93,614.94,1277.36,147.22,440.7,392.8,601.36,995.52,1541.48,470.88,48.24,1825.12,198.96,1219.76,127.36,881.4,193.14,412.62,229.2,614.94,1343.36,867.28,939.54,319.34,337.22,330.6,1038.9,41.18,374.16,612.76,1050.39,372.55,977.26,416.35,128.5,1839.44,909.04,609.88,304.94,1710.44,1465.89,159.6,867.28,614.94,1348.88,217.05,284.62,372.55,1669.48,1351.64,630.48,26.99,192.75,485.28,481.78,427.61,1734.56,909.6,485.28,372.55,919.72,1007.52,198.96,607.0,437.65,1182.32,454.53,963.56,235.58,719.1,459.86,201.62,171.9,1734.56,193.14,455.72,1445.34,637.32,252.68,606.4,1249.2,1300.92,300.68,385.37,315.24,1351.64,458.12,265.51,274.94,315.24,306.38,1822.88,1556.8,909.6,239.7,122.36,627.84,78.78,127.36,429.29,883.64,295.58,958.02,412.62,1585.36,477.99,304.94,709.62,650.02,1747.56,1541.48,412.62,1385.2,1750.6,130.32,338.6,580.34,853.86,675.82,1182.32,1818.12,146.85,1585.36,853.86,911.44,1312.95,1013.73,385.59,855.22,958.02,1287.93,588.88,958.8,342.6,65.16,1277.36,832.8,883.64,470.88,454.52,105.04,176.48,479.4,290.17,100.81,601.36,1277.36,1249.05,1098.21,1665.6,470.88,88.24,1320.2,732.14,1665.4,295.9,198.96,335.84,911.44,307.47,700.26,277.86,157.62,1212.8,909.6,1493.28,153.19,452.42,1260.45,1249.2,963.56,855.22,977.26,433.64,580.34,53.98,257.06,833.58,318.66,306.38,1342.02,300.68,436.89,30.59,706.74,507.9,476.79,128.76,158.93,1493.28,330.6,909.06,1927.12,53.98,128.53,16.08,853.86,868.2,1665.6,916.24,1825.12,1379.58,612.76,403.24,306.38,1111.44,1212.8,456.8,65.16,1762.8,1044.8,75.28,612.76,382.76,748.32,798.68,650.02,137.54,303.2,342.6,227.26,1013.73,1189.02,832.8,1287.93,687.18,1189.02,100.77,363.96,748.32,867.28,242.64,1098.21,627.84,78.78,1320.2,434.1,107.96,522.4,454.53,1011.66,363.96,909.06,1160.68,612.76,165.3,834.74,295.58,469.77,1291.77,338.6,958.02,156.96,307.47,1111.44,1282.83,706.74,379.44,1011.66,1717.16,808.8,748.32,1038.9,1368.84,404.4,1556.8,778.4,430.59,963.56,909.6,265.28,325.01,382.08,990.15,97.38,132.64,229.2,64.38,1879.08,1199.72,661.2,382.08,687.18,164.72,630.48,159.33,123.54,916.24,455.72,824.82,894.68,1541.48,192.75,1011.66,454.52,1496.64,785.6,287.07,1138.32,252.68,1717.16,798.68,479.4,303.2,1182.32,1291.77,1825.12,479.4,886.74,627.84,505.36,1680.6,217.05,290.17,1342.02,1734.56,1954.52,1062.04,335.84,1585.36,147.95,591.8,1669.48,128.53,88.24,88.24,485.28,1287.87,1214.0,909.6,350.13,922.41,412.62,299.93,44.12,1007.52,748.32,337.22,382.76,164.72,867.28,82.36,1879.08,706.74,66.32,293.7,75.28,958.8,350.13,412.62,674.44,478.8,315.24,1291.77,527.1,1219.76,1747.56,1762.8,447.23,1291.77,338.6,1722.36,229.2,635.72,311.3,441.66,1111.44,911.44,100.77,1062.04,1214.0,416.4,155.65,417.37,1417.16,471.16,1310.67,622.6,770.74,1750.6,1665.6,719.1,792.68,1762.8,192.75,222.95,277.86,445.9,868.2,469.77,963.56,886.74,265.28,855.22,338.6,137.54,404.4,290.17,123.54,919.72,261.2,330.05,263.55,114.6,158.93,488.63,171.9,550.16,176.48,1287.93,834.74,159.6,675.82,452.42,1368.84,1249.05,894.68,1167.6,201.62,191.38,1138.48,146.85,447.23,171.9,452.42,909.04,1252.11,1287.93,302.43,1385.2,505.36,263.55,922.41,300.68,681.78,1198.02,165.3,1493.28,912.56,335.84,146.07,1354.64,840.3,417.37,1367.16,53.98,1310.67,217.05,412.62,700.26,1287.87,304.94,627.84,1464.28,1300.92,293.7,260.64,82.36,1734.56,1556.8,1312.95,1363.59,1734.56,1617.6,630.48,315.24,1419.24,1156.11,1991.04,485.28,459.57,1044.8,147.22,318.66,307.47,1665.6,66.32,607.0,1138.32,1717.24,167.97,1717.16,858.58,61.18,886.74,417.37,609.88,1122.48,1351.64,325.01,531.02,875.3,1419.24,265.28,263.55,430.59,412.62,315.24,274.94,392.8,121.32,303.5,293.7,130.32,808.8,899.79,668.85,692.6,433.64,909.6,808.8,1050.39,128.5,300.68,588.88,1050.39,1054.2,783.6,440.55,1282.83,48.69,677.2,56.46,990.15,522.4,82.36,748.32,477.99,319.34,1367.16,1517.76,580.34,1367.16,295.9,100.81,832.7,919.72,894.46,904.84,963.56,650.02,429.29,1252.11,337.22,171.9,1341.69,363.96,121.32,53.98,550.16,470.88,107.96,1789.36,242.64,677.32,1496.64,1357.26,748.32,260.64,26.99,601.36,638.4,1541.48,303.2,274.94,1322.1,601.36,330.05,591.8,668.85,1013.73,44.12,748.32,614.94,609.88,1229.88,1054.2,1212.8,277.86,176.48,1385.2,614.94,437.65,303.2,303.5,307.47,975.03,137.54,875.3,342.6,100.81,372.55,977.26,497.76,1490.2,1198.02,580.34,1156.11,995.52,201.62,303.5,1282.83,33.59,1617.6,1465.89,456.28,514.12,335.84,447.23,459.86,338.66,293.7,114.2,1007.52,412.62,1367.16,165.3,1556.8,1357.26,194.76,1722.36,1818.12,681.78,337.22,870.51,1300.92,265.28,622.6,1117.65,319.2,128.53,1229.88,662.73,588.88,651.15,171.9,157.62,599.86,447.23,147.22,37.64,416.4,32.16,1160.68,910.5,64.32,302.43,257.52,977.26,1249.05,114.6,709.62,147.95,114.2,416.4,80.97,1117.65,853.86,591.8,790.65,1809.68,437.65,855.22,902.04,692.6,303.2,318.66,159.6,114.6,1050.39,379.44,1762.8,479.4,1879.08,1341.69,824.82,1348.88,254.72,1585.36,1419.24,745.1,1367.16,886.74,612.76,91.77,105.04,1099.76,1351.64,374.16,295.9,745.1,902.04,1363.59,662.73,995.52,867.28,1493.28,122.36,30.59,1015.98,868.2,1879.08,1809.68,569.24,169.3,284.62,156.96,147.22,637.32,441.66,41.18,840.3,385.59,1669.48,430.59,899.79,434.1,433.64,293.7,330.05,122.36,155.65,1517.76,745.1,1669.48,1665.6,1342.02,1342.02,824.82,808.8,156.96,569.24,1617.6,1062.04,1665.4,134.36,95.69,223.96,1167.6,1198.02,374.16,295.58,479.4,194.76,1117.65,700.26,939.54,1788.92,300.68,261.2,294.44,458.12,476.79],\"yaxis\":\"y\",\"type\":\"scatter\"}],                        {\"template\":{\"data\":{\"histogram2dcontour\":[{\"type\":\"histogram2dcontour\",\"colorbar\":{\"outlinewidth\":0,\"ticks\":\"\"},\"colorscale\":[[0.0,\"#0d0887\"],[0.1111111111111111,\"#46039f\"],[0.2222222222222222,\"#7201a8\"],[0.3333333333333333,\"#9c179e\"],[0.4444444444444444,\"#bd3786\"],[0.5555555555555556,\"#d8576b\"],[0.6666666666666666,\"#ed7953\"],[0.7777777777777778,\"#fb9f3a\"],[0.8888888888888888,\"#fdca26\"],[1.0,\"#f0f921\"]]}],\"choropleth\":[{\"type\":\"choropleth\",\"colorbar\":{\"outlinewidth\":0,\"ticks\":\"\"}}],\"histogram2d\":[{\"type\":\"histogram2d\",\"colorbar\":{\"outlinewidth\":0,\"ticks\":\"\"},\"colorscale\":[[0.0,\"#0d0887\"],[0.1111111111111111,\"#46039f\"],[0.2222222222222222,\"#7201a8\"],[0.3333333333333333,\"#9c179e\"],[0.4444444444444444,\"#bd3786\"],[0.5555555555555556,\"#d8576b\"],[0.6666666666666666,\"#ed7953\"],[0.7777777777777778,\"#fb9f3a\"],[0.8888888888888888,\"#fdca26\"],[1.0,\"#f0f921\"]]}],\"heatmap\":[{\"type\":\"heatmap\",\"colorbar\":{\"outlinewidth\":0,\"ticks\":\"\"},\"colorscale\":[[0.0,\"#0d0887\"],[0.1111111111111111,\"#46039f\"],[0.2222222222222222,\"#7201a8\"],[0.3333333333333333,\"#9c179e\"],[0.4444444444444444,\"#bd3786\"],[0.5555555555555556,\"#d8576b\"],[0.6666666666666666,\"#ed7953\"],[0.7777777777777778,\"#fb9f3a\"],[0.8888888888888888,\"#fdca26\"],[1.0,\"#f0f921\"]]}],\"heatmapgl\":[{\"type\":\"heatmapgl\",\"colorbar\":{\"outlinewidth\":0,\"ticks\":\"\"},\"colorscale\":[[0.0,\"#0d0887\"],[0.1111111111111111,\"#46039f\"],[0.2222222222222222,\"#7201a8\"],[0.3333333333333333,\"#9c179e\"],[0.4444444444444444,\"#bd3786\"],[0.5555555555555556,\"#d8576b\"],[0.6666666666666666,\"#ed7953\"],[0.7777777777777778,\"#fb9f3a\"],[0.8888888888888888,\"#fdca26\"],[1.0,\"#f0f921\"]]}],\"contourcarpet\":[{\"type\":\"contourcarpet\",\"colorbar\":{\"outlinewidth\":0,\"ticks\":\"\"}}],\"contour\":[{\"type\":\"contour\",\"colorbar\":{\"outlinewidth\":0,\"ticks\":\"\"},\"colorscale\":[[0.0,\"#0d0887\"],[0.1111111111111111,\"#46039f\"],[0.2222222222222222,\"#7201a8\"],[0.3333333333333333,\"#9c179e\"],[0.4444444444444444,\"#bd3786\"],[0.5555555555555556,\"#d8576b\"],[0.6666666666666666,\"#ed7953\"],[0.7777777777777778,\"#fb9f3a\"],[0.8888888888888888,\"#fdca26\"],[1.0,\"#f0f921\"]]}],\"surface\":[{\"type\":\"surface\",\"colorbar\":{\"outlinewidth\":0,\"ticks\":\"\"},\"colorscale\":[[0.0,\"#0d0887\"],[0.1111111111111111,\"#46039f\"],[0.2222222222222222,\"#7201a8\"],[0.3333333333333333,\"#9c179e\"],[0.4444444444444444,\"#bd3786\"],[0.5555555555555556,\"#d8576b\"],[0.6666666666666666,\"#ed7953\"],[0.7777777777777778,\"#fb9f3a\"],[0.8888888888888888,\"#fdca26\"],[1.0,\"#f0f921\"]]}],\"mesh3d\":[{\"type\":\"mesh3d\",\"colorbar\":{\"outlinewidth\":0,\"ticks\":\"\"}}],\"scatter\":[{\"fillpattern\":{\"fillmode\":\"overlay\",\"size\":10,\"solidity\":0.2},\"type\":\"scatter\"}],\"parcoords\":[{\"type\":\"parcoords\",\"line\":{\"colorbar\":{\"outlinewidth\":0,\"ticks\":\"\"}}}],\"scatterpolargl\":[{\"type\":\"scatterpolargl\",\"marker\":{\"colorbar\":{\"outlinewidth\":0,\"ticks\":\"\"}}}],\"bar\":[{\"error_x\":{\"color\":\"#2a3f5f\"},\"error_y\":{\"color\":\"#2a3f5f\"},\"marker\":{\"line\":{\"color\":\"#E5ECF6\",\"width\":0.5},\"pattern\":{\"fillmode\":\"overlay\",\"size\":10,\"solidity\":0.2}},\"type\":\"bar\"}],\"scattergeo\":[{\"type\":\"scattergeo\",\"marker\":{\"colorbar\":{\"outlinewidth\":0,\"ticks\":\"\"}}}],\"scatterpolar\":[{\"type\":\"scatterpolar\",\"marker\":{\"colorbar\":{\"outlinewidth\":0,\"ticks\":\"\"}}}],\"histogram\":[{\"marker\":{\"pattern\":{\"fillmode\":\"overlay\",\"size\":10,\"solidity\":0.2}},\"type\":\"histogram\"}],\"scattergl\":[{\"type\":\"scattergl\",\"marker\":{\"colorbar\":{\"outlinewidth\":0,\"ticks\":\"\"}}}],\"scatter3d\":[{\"type\":\"scatter3d\",\"line\":{\"colorbar\":{\"outlinewidth\":0,\"ticks\":\"\"}},\"marker\":{\"colorbar\":{\"outlinewidth\":0,\"ticks\":\"\"}}}],\"scattermapbox\":[{\"type\":\"scattermapbox\",\"marker\":{\"colorbar\":{\"outlinewidth\":0,\"ticks\":\"\"}}}],\"scatterternary\":[{\"type\":\"scatterternary\",\"marker\":{\"colorbar\":{\"outlinewidth\":0,\"ticks\":\"\"}}}],\"scattercarpet\":[{\"type\":\"scattercarpet\",\"marker\":{\"colorbar\":{\"outlinewidth\":0,\"ticks\":\"\"}}}],\"carpet\":[{\"aaxis\":{\"endlinecolor\":\"#2a3f5f\",\"gridcolor\":\"white\",\"linecolor\":\"white\",\"minorgridcolor\":\"white\",\"startlinecolor\":\"#2a3f5f\"},\"baxis\":{\"endlinecolor\":\"#2a3f5f\",\"gridcolor\":\"white\",\"linecolor\":\"white\",\"minorgridcolor\":\"white\",\"startlinecolor\":\"#2a3f5f\"},\"type\":\"carpet\"}],\"table\":[{\"cells\":{\"fill\":{\"color\":\"#EBF0F8\"},\"line\":{\"color\":\"white\"}},\"header\":{\"fill\":{\"color\":\"#C8D4E3\"},\"line\":{\"color\":\"white\"}},\"type\":\"table\"}],\"barpolar\":[{\"marker\":{\"line\":{\"color\":\"#E5ECF6\",\"width\":0.5},\"pattern\":{\"fillmode\":\"overlay\",\"size\":10,\"solidity\":0.2}},\"type\":\"barpolar\"}],\"pie\":[{\"automargin\":true,\"type\":\"pie\"}]},\"layout\":{\"autotypenumbers\":\"strict\",\"colorway\":[\"#636efa\",\"#EF553B\",\"#00cc96\",\"#ab63fa\",\"#FFA15A\",\"#19d3f3\",\"#FF6692\",\"#B6E880\",\"#FF97FF\",\"#FECB52\"],\"font\":{\"color\":\"#2a3f5f\"},\"hovermode\":\"closest\",\"hoverlabel\":{\"align\":\"left\"},\"paper_bgcolor\":\"white\",\"plot_bgcolor\":\"#E5ECF6\",\"polar\":{\"bgcolor\":\"#E5ECF6\",\"angularaxis\":{\"gridcolor\":\"white\",\"linecolor\":\"white\",\"ticks\":\"\"},\"radialaxis\":{\"gridcolor\":\"white\",\"linecolor\":\"white\",\"ticks\":\"\"}},\"ternary\":{\"bgcolor\":\"#E5ECF6\",\"aaxis\":{\"gridcolor\":\"white\",\"linecolor\":\"white\",\"ticks\":\"\"},\"baxis\":{\"gridcolor\":\"white\",\"linecolor\":\"white\",\"ticks\":\"\"},\"caxis\":{\"gridcolor\":\"white\",\"linecolor\":\"white\",\"ticks\":\"\"}},\"coloraxis\":{\"colorbar\":{\"outlinewidth\":0,\"ticks\":\"\"}},\"colorscale\":{\"sequential\":[[0.0,\"#0d0887\"],[0.1111111111111111,\"#46039f\"],[0.2222222222222222,\"#7201a8\"],[0.3333333333333333,\"#9c179e\"],[0.4444444444444444,\"#bd3786\"],[0.5555555555555556,\"#d8576b\"],[0.6666666666666666,\"#ed7953\"],[0.7777777777777778,\"#fb9f3a\"],[0.8888888888888888,\"#fdca26\"],[1.0,\"#f0f921\"]],\"sequentialminus\":[[0.0,\"#0d0887\"],[0.1111111111111111,\"#46039f\"],[0.2222222222222222,\"#7201a8\"],[0.3333333333333333,\"#9c179e\"],[0.4444444444444444,\"#bd3786\"],[0.5555555555555556,\"#d8576b\"],[0.6666666666666666,\"#ed7953\"],[0.7777777777777778,\"#fb9f3a\"],[0.8888888888888888,\"#fdca26\"],[1.0,\"#f0f921\"]],\"diverging\":[[0,\"#8e0152\"],[0.1,\"#c51b7d\"],[0.2,\"#de77ae\"],[0.3,\"#f1b6da\"],[0.4,\"#fde0ef\"],[0.5,\"#f7f7f7\"],[0.6,\"#e6f5d0\"],[0.7,\"#b8e186\"],[0.8,\"#7fbc41\"],[0.9,\"#4d9221\"],[1,\"#276419\"]]},\"xaxis\":{\"gridcolor\":\"white\",\"linecolor\":\"white\",\"ticks\":\"\",\"title\":{\"standoff\":15},\"zerolinecolor\":\"white\",\"automargin\":true,\"zerolinewidth\":2},\"yaxis\":{\"gridcolor\":\"white\",\"linecolor\":\"white\",\"ticks\":\"\",\"title\":{\"standoff\":15},\"zerolinecolor\":\"white\",\"automargin\":true,\"zerolinewidth\":2},\"scene\":{\"xaxis\":{\"backgroundcolor\":\"#E5ECF6\",\"gridcolor\":\"white\",\"linecolor\":\"white\",\"showbackground\":true,\"ticks\":\"\",\"zerolinecolor\":\"white\",\"gridwidth\":2},\"yaxis\":{\"backgroundcolor\":\"#E5ECF6\",\"gridcolor\":\"white\",\"linecolor\":\"white\",\"showbackground\":true,\"ticks\":\"\",\"zerolinecolor\":\"white\",\"gridwidth\":2},\"zaxis\":{\"backgroundcolor\":\"#E5ECF6\",\"gridcolor\":\"white\",\"linecolor\":\"white\",\"showbackground\":true,\"ticks\":\"\",\"zerolinecolor\":\"white\",\"gridwidth\":2}},\"shapedefaults\":{\"line\":{\"color\":\"#2a3f5f\"}},\"annotationdefaults\":{\"arrowcolor\":\"#2a3f5f\",\"arrowhead\":0,\"arrowwidth\":1},\"geo\":{\"bgcolor\":\"white\",\"landcolor\":\"#E5ECF6\",\"subunitcolor\":\"white\",\"showland\":true,\"showlakes\":true,\"lakecolor\":\"white\"},\"title\":{\"x\":0.05},\"mapbox\":{\"style\":\"light\"}}},\"xaxis\":{\"anchor\":\"y\",\"domain\":[0.0,1.0],\"title\":{\"text\":\"TransactionDate\"}},\"yaxis\":{\"anchor\":\"x\",\"domain\":[0.0,1.0],\"title\":{\"text\":\"TotalValue\"}},\"legend\":{\"tracegroupgap\":0},\"title\":{\"text\":\"Trend of Transactions Over Time\"}},                        {\"responsive\": true}                    ).then(function(){\n",
              "                            \n",
              "var gd = document.getElementById('1d90aa77-7e37-454b-910b-4a50056b195a');\n",
              "var x = new MutationObserver(function (mutations, observer) {{\n",
              "        var display = window.getComputedStyle(gd).display;\n",
              "        if (!display || display === 'none') {{\n",
              "            console.log([gd, 'removed!']);\n",
              "            Plotly.purge(gd);\n",
              "            observer.disconnect();\n",
              "        }}\n",
              "}});\n",
              "\n",
              "// Listen for the removal of the full notebook cells\n",
              "var notebookContainer = gd.closest('#notebook-container');\n",
              "if (notebookContainer) {{\n",
              "    x.observe(notebookContainer, {childList: true});\n",
              "}}\n",
              "\n",
              "// Listen for the clearing of the current output cell\n",
              "var outputEl = gd.closest('.output');\n",
              "if (outputEl) {{\n",
              "    x.observe(outputEl, {childList: true});\n",
              "}}\n",
              "\n",
              "                        })                };                            </script>        </div>\n",
              "</body>\n",
              "</html>"
            ]
          },
          "metadata": {}
        }
      ]
    },
    {
      "cell_type": "code",
      "source": [
        "# # Ensure data is aggregated to show just one data point per day (no time component)\n",
        "# aggregated_sales['TransactionDate'] = aggregated_sales['TransactionDate'].dt.date\n",
        "\n",
        "# # Aggregate again to remove any time components in the date (if necessary)\n",
        "# final_aggregated_sales = aggregated_sales.groupby('TransactionDate').agg({\n",
        "#     'TotalValue': 'sum'\n",
        "# }).reset_index()\n",
        "\n",
        "# # Plotting the final aggregated sales trend\n",
        "# fig6 = px.line(\n",
        "#     final_aggregated_sales,\n",
        "#     x='TransactionDate',\n",
        "#     y='TotalValue',\n",
        "#     title=\"Daily Aggregated Sales Trend (One Data Point per Day)\",\n",
        "#     labels={'TransactionDate': 'Date', 'TotalValue': 'Total Sales Value'}\n",
        "# )\n",
        "# fig6.show()\n",
        "\n",
        "\n",
        "\n",
        "\n",
        "# Adding a column to identify weekends\n",
        "final_aggregated_sales['DayOfWeek'] = pd.to_datetime(final_aggregated_sales['TransactionDate']).dt.day_name()\n",
        "final_aggregated_sales['IsWeekend'] = final_aggregated_sales['DayOfWeek'].isin(['Saturday', 'Sunday'])\n",
        "\n",
        "# Calculating the threshold for the top 10% of sales days\n",
        "threshold_10_percent = np.percentile(final_aggregated_sales['TotalValue'], 90)\n",
        "final_aggregated_sales['IsPeak'] = final_aggregated_sales['TotalValue'] >= threshold_10_percent\n",
        "\n",
        "# Plotting the sales trend with highlighted weekends and peak sales\n",
        "fig8 = px.line(\n",
        "    final_aggregated_sales,\n",
        "    x='TransactionDate',\n",
        "    y='TotalValue',\n",
        "    title=\"Daily Aggregated Sales Trend with Highlighted Weekends and Peak Days\",\n",
        "    labels={'TransactionDate': 'Date', 'TotalValue': 'Total Sales Value'},\n",
        ")\n",
        "\n",
        "# Adding scatter points for weekends\n",
        "fig8.add_scatter(\n",
        "    x=final_aggregated_sales.loc[final_aggregated_sales['IsWeekend'], 'TransactionDate'],\n",
        "    y=final_aggregated_sales.loc[final_aggregated_sales['IsWeekend'], 'TotalValue'],\n",
        "    mode='markers',\n",
        "    marker=dict(size=8, color='blue', symbol='circle'),\n",
        "    name='Weekends',\n",
        ")\n",
        "\n",
        "# Adding scatter points for peak sales days\n",
        "fig8.add_scatter(\n",
        "    x=final_aggregated_sales.loc[final_aggregated_sales['IsPeak'], 'TransactionDate'],\n",
        "    y=final_aggregated_sales.loc[final_aggregated_sales['IsPeak'], 'TotalValue'],\n",
        "    mode='markers',\n",
        "    marker=dict(size=10, color='red', symbol='diamond'),\n",
        "    name='Peak Sales (Top 10%)',\n",
        ")\n",
        "\n",
        "fig8.show()\n",
        "\n"
      ],
      "metadata": {
        "id": "7UgUKV_qoF6e",
        "colab": {
          "base_uri": "https://localhost:8080/",
          "height": 542
        },
        "outputId": "00ad5156-9174-461d-afd4-81499d8d2fe5"
      },
      "execution_count": null,
      "outputs": [
        {
          "output_type": "display_data",
          "data": {
            "text/html": [
              "<html>\n",
              "<head><meta charset=\"utf-8\" /></head>\n",
              "<body>\n",
              "    <div>            <script src=\"https://cdnjs.cloudflare.com/ajax/libs/mathjax/2.7.5/MathJax.js?config=TeX-AMS-MML_SVG\"></script><script type=\"text/javascript\">if (window.MathJax && window.MathJax.Hub && window.MathJax.Hub.Config) {window.MathJax.Hub.Config({SVG: {font: \"STIX-Web\"}});}</script>                <script type=\"text/javascript\">window.PlotlyConfig = {MathJaxConfig: 'local'};</script>\n",
              "        <script charset=\"utf-8\" src=\"https://cdn.plot.ly/plotly-2.35.2.min.js\"></script>                <div id=\"c1818018-77bd-4391-a233-ad866c1ced82\" class=\"plotly-graph-div\" style=\"height:525px; width:100%;\"></div>            <script type=\"text/javascript\">                                    window.PLOTLYENV=window.PLOTLYENV || {};                                    if (document.getElementById(\"c1818018-77bd-4391-a233-ad866c1ced82\")) {                    Plotly.newPlot(                        \"c1818018-77bd-4391-a233-ad866c1ced82\",                        [{\"hovertemplate\":\"Date=%{x}\\u003cbr\\u003eTotal Sales Value=%{y}\\u003cextra\\u003e\\u003c\\u002fextra\\u003e\",\"legendgroup\":\"\",\"line\":{\"color\":\"#636efa\",\"dash\":\"solid\"},\"marker\":{\"symbol\":\"circle\"},\"mode\":\"lines\",\"name\":\"\",\"orientation\":\"v\",\"showlegend\":false,\"x\":[\"2023-12-30\",\"2023-12-31\",\"2024-01-01\",\"2024-01-02\",\"2024-01-03\",\"2024-01-04\",\"2024-01-05\",\"2024-01-06\",\"2024-01-07\",\"2024-01-08\",\"2024-01-09\",\"2024-01-11\",\"2024-01-12\",\"2024-01-13\",\"2024-01-14\",\"2024-01-15\",\"2024-01-16\",\"2024-01-17\",\"2024-01-18\",\"2024-01-19\",\"2024-01-20\",\"2024-01-21\",\"2024-01-22\",\"2024-01-23\",\"2024-01-24\",\"2024-01-25\",\"2024-01-26\",\"2024-01-27\",\"2024-01-28\",\"2024-01-29\",\"2024-01-30\",\"2024-01-31\",\"2024-02-01\",\"2024-02-02\",\"2024-02-03\",\"2024-02-04\",\"2024-02-05\",\"2024-02-06\",\"2024-02-07\",\"2024-02-08\",\"2024-02-10\",\"2024-02-12\",\"2024-02-13\",\"2024-02-14\",\"2024-02-15\",\"2024-02-16\",\"2024-02-17\",\"2024-02-18\",\"2024-02-20\",\"2024-02-21\",\"2024-02-22\",\"2024-02-23\",\"2024-02-24\",\"2024-02-25\",\"2024-02-27\",\"2024-02-28\",\"2024-02-29\",\"2024-03-01\",\"2024-03-02\",\"2024-03-03\",\"2024-03-04\",\"2024-03-05\",\"2024-03-06\",\"2024-03-07\",\"2024-03-08\",\"2024-03-09\",\"2024-03-10\",\"2024-03-11\",\"2024-03-12\",\"2024-03-13\",\"2024-03-14\",\"2024-03-15\",\"2024-03-16\",\"2024-03-18\",\"2024-03-19\",\"2024-03-20\",\"2024-03-21\",\"2024-03-22\",\"2024-03-23\",\"2024-03-24\",\"2024-03-25\",\"2024-03-26\",\"2024-03-27\",\"2024-03-28\",\"2024-03-29\",\"2024-03-30\",\"2024-03-31\",\"2024-04-01\",\"2024-04-02\",\"2024-04-03\",\"2024-04-04\",\"2024-04-05\",\"2024-04-06\",\"2024-04-07\",\"2024-04-08\",\"2024-04-09\",\"2024-04-11\",\"2024-04-12\",\"2024-04-13\",\"2024-04-14\",\"2024-04-15\",\"2024-04-16\",\"2024-04-17\",\"2024-04-18\",\"2024-04-19\",\"2024-04-20\",\"2024-04-21\",\"2024-04-22\",\"2024-04-23\",\"2024-04-24\",\"2024-04-25\",\"2024-04-26\",\"2024-04-27\",\"2024-04-28\",\"2024-04-29\",\"2024-04-30\",\"2024-05-02\",\"2024-05-03\",\"2024-05-04\",\"2024-05-05\",\"2024-05-06\",\"2024-05-07\",\"2024-05-08\",\"2024-05-09\",\"2024-05-10\",\"2024-05-11\",\"2024-05-12\",\"2024-05-13\",\"2024-05-14\",\"2024-05-15\",\"2024-05-16\",\"2024-05-18\",\"2024-05-19\",\"2024-05-20\",\"2024-05-21\",\"2024-05-22\",\"2024-05-23\",\"2024-05-24\",\"2024-05-25\",\"2024-05-26\",\"2024-05-27\",\"2024-05-28\",\"2024-05-29\",\"2024-05-30\",\"2024-06-02\",\"2024-06-03\",\"2024-06-04\",\"2024-06-05\",\"2024-06-07\",\"2024-06-08\",\"2024-06-09\",\"2024-06-10\",\"2024-06-11\",\"2024-06-12\",\"2024-06-13\",\"2024-06-14\",\"2024-06-15\",\"2024-06-16\",\"2024-06-17\",\"2024-06-18\",\"2024-06-19\",\"2024-06-20\",\"2024-06-21\",\"2024-06-22\",\"2024-06-23\",\"2024-06-24\",\"2024-06-25\",\"2024-06-27\",\"2024-06-29\",\"2024-06-30\",\"2024-07-01\",\"2024-07-02\",\"2024-07-03\",\"2024-07-04\",\"2024-07-05\",\"2024-07-06\",\"2024-07-07\",\"2024-07-08\",\"2024-07-09\",\"2024-07-10\",\"2024-07-11\",\"2024-07-12\",\"2024-07-13\",\"2024-07-14\",\"2024-07-15\",\"2024-07-16\",\"2024-07-17\",\"2024-07-18\",\"2024-07-19\",\"2024-07-20\",\"2024-07-21\",\"2024-07-22\",\"2024-07-23\",\"2024-07-24\",\"2024-07-25\",\"2024-07-26\",\"2024-07-27\",\"2024-07-28\",\"2024-07-29\",\"2024-07-30\",\"2024-07-31\",\"2024-08-01\",\"2024-08-02\",\"2024-08-03\",\"2024-08-04\",\"2024-08-05\",\"2024-08-06\",\"2024-08-07\",\"2024-08-08\",\"2024-08-09\",\"2024-08-10\",\"2024-08-11\",\"2024-08-12\",\"2024-08-13\",\"2024-08-14\",\"2024-08-15\",\"2024-08-16\",\"2024-08-17\",\"2024-08-18\",\"2024-08-19\",\"2024-08-20\",\"2024-08-22\",\"2024-08-23\",\"2024-08-24\",\"2024-08-25\",\"2024-08-26\",\"2024-08-27\",\"2024-08-28\",\"2024-08-29\",\"2024-08-30\",\"2024-08-31\",\"2024-09-01\",\"2024-09-03\",\"2024-09-04\",\"2024-09-05\",\"2024-09-06\",\"2024-09-08\",\"2024-09-09\",\"2024-09-10\",\"2024-09-11\",\"2024-09-12\",\"2024-09-13\",\"2024-09-14\",\"2024-09-15\",\"2024-09-16\",\"2024-09-17\",\"2024-09-18\",\"2024-09-19\",\"2024-09-20\",\"2024-09-21\",\"2024-09-22\",\"2024-09-23\",\"2024-09-24\",\"2024-09-25\",\"2024-09-26\",\"2024-09-27\",\"2024-09-28\",\"2024-09-29\",\"2024-09-30\",\"2024-10-01\",\"2024-10-02\",\"2024-10-03\",\"2024-10-04\",\"2024-10-05\",\"2024-10-06\",\"2024-10-07\",\"2024-10-08\",\"2024-10-09\",\"2024-10-10\",\"2024-10-11\",\"2024-10-12\",\"2024-10-13\",\"2024-10-14\",\"2024-10-15\",\"2024-10-16\",\"2024-10-17\",\"2024-10-19\",\"2024-10-20\",\"2024-10-21\",\"2024-10-22\",\"2024-10-23\",\"2024-10-24\",\"2024-10-26\",\"2024-10-27\",\"2024-10-28\",\"2024-10-29\",\"2024-10-30\",\"2024-11-01\",\"2024-11-02\",\"2024-11-03\",\"2024-11-04\",\"2024-11-05\",\"2024-11-07\",\"2024-11-08\",\"2024-11-09\",\"2024-11-10\",\"2024-11-11\",\"2024-11-13\",\"2024-11-14\",\"2024-11-15\",\"2024-11-16\",\"2024-11-17\",\"2024-11-20\",\"2024-11-21\",\"2024-11-22\",\"2024-11-24\",\"2024-11-26\",\"2024-11-27\",\"2024-11-28\",\"2024-11-29\",\"2024-11-30\",\"2024-12-01\",\"2024-12-03\",\"2024-12-04\",\"2024-12-05\",\"2024-12-06\",\"2024-12-07\",\"2024-12-08\",\"2024-12-09\",\"2024-12-10\",\"2024-12-11\",\"2024-12-12\",\"2024-12-13\",\"2024-12-14\",\"2024-12-15\",\"2024-12-16\",\"2024-12-17\",\"2024-12-18\",\"2024-12-19\",\"2024-12-21\",\"2024-12-22\",\"2024-12-23\",\"2024-12-24\",\"2024-12-25\",\"2024-12-26\",\"2024-12-27\",\"2024-12-28\"],\"xaxis\":\"x\",\"y\":[313.92,3455.6,1468.94,1818.03,2224.41,2790.7599999999998,1049.92,2325.74,1395.63,686.15,3846.8,1803.79,2474.35,4049.45,1506.83,1212.8,2454.6299999999997,3350.92,2107.08,114.6,3160.33,2064.18,2460.23,1791.33,3302.32,2544.16,260.86,2134.57,2625.7599999999998,1842.8799999999999,2606.18,4902.76,1597.6799999999998,926.81,509.44,3436.86,4170.28,4917.87,1071.85,986.6400000000001,488.63,4349.7,3417.38,1038.9,3625.26,169.0,2165.44,1106.06,1350.21,2453.82,1343.87,1302.47,1312.1100000000001,1766.5099999999998,1974.3200000000002,4522.26,1455.9,1182.32,916.24,421.78,2242.68,2905.99,257.0,1522.66,306.38,1356.16,3133.3999999999996,2947.84,3850.83,3769.29,502.83,2152.95,1371.76,433.90999999999997,1017.73,750.76,902.04,100.77,2048.12,158.93,1892.3,1582.08,995.52,2060.6,3243.84,1201.9,2600.12,2126.16,1747.9000000000003,2037.3100000000002,1349.81,2384.29,5000.1900000000005,1026.8799999999999,2180.8700000000003,4308.77,219.74,967.06,2162.17,3694.67,198.96,607.0,1619.9699999999998,454.53,963.56,954.6800000000001,833.38,1927.6999999999998,2791.06,1855.6,3653.8500000000004,3443.07,2828.46,2146.91,1666.2199999999998,2368.29,3107.2,3339.3,1880.9199999999998,1772.8000000000002,5408.469999999999,1765.3000000000002,5813.4400000000005,4065.6,883.64,925.4,281.52,769.5699999999999,702.1700000000001,5290.219999999999,4276.860000000001,494.86,1247.28,2656.01,2402.88,1866.06,1249.2,3229.68,891.3800000000001,1152.24,1949.0800000000002,2446.6,1493.28,3166.7799999999997,198.58999999999997,3387.66,5136.94,306.38,1111.44,1669.6,65.16,1762.8,2115.6,2334.56,3908.6099999999997,3164.13,100.77,2222.2,1098.21,627.84,2917.9700000000003,2284.68,1938.74,1600.09,1291.77,338.6,1114.98,2701.74,1086.18,4285.94,4368.9400000000005,2172.55,1174.88,325.01,1602.25,2172.66,1860.92,1069.26,164.72,1829.5900000000001,3716.7,5366.56,1969.8400000000001,5880.49,1993.98,2185.96,1849.24,5086.96,3994.59,305.01,1773.1499999999999,3396.14,756.67,2475.82,1114.36,2652.14,293.7,1034.08,1437.19,3832.67,3510.3599999999997,447.23,4528.95,3627.3500000000004,1630.4,2461.34,1933.27,4186.94,1511.78,1955.55,500.81,2747.43,886.74,2001.04,290.17,2660.2200000000003,2186.4700000000003,834.74,835.4200000000001,3070.31,2263.8999999999996,1476.71,3232.7,3480.92,2168.42,1363.32,2741.68,4125.54,1364.65,629.6700000000001,2293.0699999999997,3393.04,2371.2599999999998,7585.5,945.72,5051.67,1651.59,626.1300000000001,1731.9199999999998,3462.56,2804.8900000000003,3036.4700000000003,1351.64,325.01,3090.84,1422.0,789.06,727.52,1708.59,4563.88,2068.4500000000003,3561.1800000000003,782.3500000000001,2821.2200000000003,5151.76,295.9,933.51,3682.58,4667.51,1182.98,4205.96,2105.58,1527.3899999999999,1844.68,274.94,4527.89,2017.2600000000002,1229.88,2267.0,454.34000000000003,3044.4900000000002,307.47,975.03,137.54,1217.9,473.36,977.26,497.76,4424.67,2817.06,4389.73,1245.75,293.7,1121.72,412.62,1367.16,1722.1,5092.5,4078.31,1117.65,1677.6100000000001,662.73,1240.03,1523.83,454.03999999999996,2470.09,2483.83,972.1700000000001,114.2,416.4,1198.6200000000001,2236.31,1809.68,437.65,855.22,1594.6399999999999,303.2,2022.6900000000003,1762.8,2358.48,1341.69,2173.7000000000003,6258.32,612.76,1296.57,2021.7,1647.1399999999999,2026.32,1862.8,2662.21,4556.96,1327.3400000000001,1078.98,41.18,4225.75,1491.49,2540.87,6843.94,808.8,726.2,1617.6,2957.4900000000002,2589.58,1343.9,5108.25,752.56,476.79],\"yaxis\":\"y\",\"type\":\"scatter\"},{\"marker\":{\"color\":\"blue\",\"size\":8,\"symbol\":\"circle\"},\"mode\":\"markers\",\"name\":\"Weekends\",\"x\":[\"2023-12-30\",\"2023-12-31\",\"2024-01-06\",\"2024-01-07\",\"2024-01-13\",\"2024-01-14\",\"2024-01-20\",\"2024-01-21\",\"2024-01-27\",\"2024-01-28\",\"2024-02-03\",\"2024-02-04\",\"2024-02-10\",\"2024-02-17\",\"2024-02-18\",\"2024-02-24\",\"2024-02-25\",\"2024-03-02\",\"2024-03-03\",\"2024-03-09\",\"2024-03-10\",\"2024-03-16\",\"2024-03-23\",\"2024-03-24\",\"2024-03-30\",\"2024-03-31\",\"2024-04-06\",\"2024-04-07\",\"2024-04-13\",\"2024-04-14\",\"2024-04-20\",\"2024-04-21\",\"2024-04-27\",\"2024-04-28\",\"2024-05-04\",\"2024-05-05\",\"2024-05-11\",\"2024-05-12\",\"2024-05-18\",\"2024-05-19\",\"2024-05-25\",\"2024-05-26\",\"2024-06-02\",\"2024-06-08\",\"2024-06-09\",\"2024-06-15\",\"2024-06-16\",\"2024-06-22\",\"2024-06-23\",\"2024-06-29\",\"2024-06-30\",\"2024-07-06\",\"2024-07-07\",\"2024-07-13\",\"2024-07-14\",\"2024-07-20\",\"2024-07-21\",\"2024-07-27\",\"2024-07-28\",\"2024-08-03\",\"2024-08-04\",\"2024-08-10\",\"2024-08-11\",\"2024-08-17\",\"2024-08-18\",\"2024-08-24\",\"2024-08-25\",\"2024-08-31\",\"2024-09-01\",\"2024-09-08\",\"2024-09-14\",\"2024-09-15\",\"2024-09-21\",\"2024-09-22\",\"2024-09-28\",\"2024-09-29\",\"2024-10-05\",\"2024-10-06\",\"2024-10-12\",\"2024-10-13\",\"2024-10-19\",\"2024-10-20\",\"2024-10-26\",\"2024-10-27\",\"2024-11-02\",\"2024-11-03\",\"2024-11-09\",\"2024-11-10\",\"2024-11-16\",\"2024-11-17\",\"2024-11-24\",\"2024-11-30\",\"2024-12-01\",\"2024-12-07\",\"2024-12-08\",\"2024-12-14\",\"2024-12-15\",\"2024-12-21\",\"2024-12-22\",\"2024-12-28\"],\"y\":[313.92,3455.6,2325.74,1395.63,4049.45,1506.83,3160.33,2064.18,2134.57,2625.7599999999998,509.44,3436.86,488.63,2165.44,1106.06,1312.1100000000001,1766.5099999999998,916.24,421.78,1356.16,3133.3999999999996,1371.76,2048.12,158.93,1201.9,2600.12,5000.1900000000005,1026.8799999999999,2162.17,3694.67,954.6800000000001,833.38,2828.46,2146.91,1880.9199999999998,1772.8000000000002,925.4,281.52,494.86,1247.28,891.3800000000001,1152.24,198.58999999999997,1669.6,65.16,100.77,2222.2,1600.09,1291.77,1086.18,4285.94,2172.66,1860.92,1969.8400000000001,5880.49,305.01,1773.1499999999999,293.7,1034.08,3627.3500000000004,1630.4,500.81,2747.43,834.74,835.4200000000001,3480.92,2168.42,2293.0699999999997,3393.04,1651.59,1351.64,325.01,4563.88,2068.4500000000003,933.51,3682.58,1844.68,274.94,3044.4900000000002,307.47,977.26,497.76,293.7,1121.72,4078.31,1117.65,454.03999999999996,2470.09,1198.6200000000001,2236.31,1594.6399999999999,1341.69,2173.7000000000003,1647.1399999999999,2026.32,41.18,4225.75,726.2,1617.6,476.79],\"type\":\"scatter\"},{\"marker\":{\"color\":\"red\",\"size\":10,\"symbol\":\"diamond\"},\"mode\":\"markers\",\"name\":\"Peak Sales (Top 10%)\",\"x\":[\"2024-01-31\",\"2024-02-05\",\"2024-02-06\",\"2024-02-12\",\"2024-02-28\",\"2024-04-06\",\"2024-04-09\",\"2024-05-06\",\"2024-05-08\",\"2024-05-15\",\"2024-05-16\",\"2024-06-04\",\"2024-06-30\",\"2024-07-01\",\"2024-07-12\",\"2024-07-14\",\"2024-07-18\",\"2024-08-02\",\"2024-08-07\",\"2024-09-04\",\"2024-09-06\",\"2024-09-21\",\"2024-09-26\",\"2024-09-30\",\"2024-10-02\",\"2024-10-07\",\"2024-10-21\",\"2024-10-23\",\"2024-11-01\",\"2024-12-03\",\"2024-12-11\",\"2024-12-15\",\"2024-12-18\",\"2024-12-26\"],\"y\":[4902.76,4170.28,4917.87,4349.7,4522.26,5000.1900000000005,4308.77,5408.469999999999,5813.4400000000005,5290.219999999999,4276.860000000001,5136.94,4285.94,4368.9400000000005,5366.56,5880.49,5086.96,4528.95,4186.94,7585.5,5051.67,4563.88,5151.76,4667.51,4205.96,4527.89,4424.67,4389.73,5092.5,6258.32,4556.96,4225.75,6843.94,5108.25],\"type\":\"scatter\"}],                        {\"template\":{\"data\":{\"histogram2dcontour\":[{\"type\":\"histogram2dcontour\",\"colorbar\":{\"outlinewidth\":0,\"ticks\":\"\"},\"colorscale\":[[0.0,\"#0d0887\"],[0.1111111111111111,\"#46039f\"],[0.2222222222222222,\"#7201a8\"],[0.3333333333333333,\"#9c179e\"],[0.4444444444444444,\"#bd3786\"],[0.5555555555555556,\"#d8576b\"],[0.6666666666666666,\"#ed7953\"],[0.7777777777777778,\"#fb9f3a\"],[0.8888888888888888,\"#fdca26\"],[1.0,\"#f0f921\"]]}],\"choropleth\":[{\"type\":\"choropleth\",\"colorbar\":{\"outlinewidth\":0,\"ticks\":\"\"}}],\"histogram2d\":[{\"type\":\"histogram2d\",\"colorbar\":{\"outlinewidth\":0,\"ticks\":\"\"},\"colorscale\":[[0.0,\"#0d0887\"],[0.1111111111111111,\"#46039f\"],[0.2222222222222222,\"#7201a8\"],[0.3333333333333333,\"#9c179e\"],[0.4444444444444444,\"#bd3786\"],[0.5555555555555556,\"#d8576b\"],[0.6666666666666666,\"#ed7953\"],[0.7777777777777778,\"#fb9f3a\"],[0.8888888888888888,\"#fdca26\"],[1.0,\"#f0f921\"]]}],\"heatmap\":[{\"type\":\"heatmap\",\"colorbar\":{\"outlinewidth\":0,\"ticks\":\"\"},\"colorscale\":[[0.0,\"#0d0887\"],[0.1111111111111111,\"#46039f\"],[0.2222222222222222,\"#7201a8\"],[0.3333333333333333,\"#9c179e\"],[0.4444444444444444,\"#bd3786\"],[0.5555555555555556,\"#d8576b\"],[0.6666666666666666,\"#ed7953\"],[0.7777777777777778,\"#fb9f3a\"],[0.8888888888888888,\"#fdca26\"],[1.0,\"#f0f921\"]]}],\"heatmapgl\":[{\"type\":\"heatmapgl\",\"colorbar\":{\"outlinewidth\":0,\"ticks\":\"\"},\"colorscale\":[[0.0,\"#0d0887\"],[0.1111111111111111,\"#46039f\"],[0.2222222222222222,\"#7201a8\"],[0.3333333333333333,\"#9c179e\"],[0.4444444444444444,\"#bd3786\"],[0.5555555555555556,\"#d8576b\"],[0.6666666666666666,\"#ed7953\"],[0.7777777777777778,\"#fb9f3a\"],[0.8888888888888888,\"#fdca26\"],[1.0,\"#f0f921\"]]}],\"contourcarpet\":[{\"type\":\"contourcarpet\",\"colorbar\":{\"outlinewidth\":0,\"ticks\":\"\"}}],\"contour\":[{\"type\":\"contour\",\"colorbar\":{\"outlinewidth\":0,\"ticks\":\"\"},\"colorscale\":[[0.0,\"#0d0887\"],[0.1111111111111111,\"#46039f\"],[0.2222222222222222,\"#7201a8\"],[0.3333333333333333,\"#9c179e\"],[0.4444444444444444,\"#bd3786\"],[0.5555555555555556,\"#d8576b\"],[0.6666666666666666,\"#ed7953\"],[0.7777777777777778,\"#fb9f3a\"],[0.8888888888888888,\"#fdca26\"],[1.0,\"#f0f921\"]]}],\"surface\":[{\"type\":\"surface\",\"colorbar\":{\"outlinewidth\":0,\"ticks\":\"\"},\"colorscale\":[[0.0,\"#0d0887\"],[0.1111111111111111,\"#46039f\"],[0.2222222222222222,\"#7201a8\"],[0.3333333333333333,\"#9c179e\"],[0.4444444444444444,\"#bd3786\"],[0.5555555555555556,\"#d8576b\"],[0.6666666666666666,\"#ed7953\"],[0.7777777777777778,\"#fb9f3a\"],[0.8888888888888888,\"#fdca26\"],[1.0,\"#f0f921\"]]}],\"mesh3d\":[{\"type\":\"mesh3d\",\"colorbar\":{\"outlinewidth\":0,\"ticks\":\"\"}}],\"scatter\":[{\"fillpattern\":{\"fillmode\":\"overlay\",\"size\":10,\"solidity\":0.2},\"type\":\"scatter\"}],\"parcoords\":[{\"type\":\"parcoords\",\"line\":{\"colorbar\":{\"outlinewidth\":0,\"ticks\":\"\"}}}],\"scatterpolargl\":[{\"type\":\"scatterpolargl\",\"marker\":{\"colorbar\":{\"outlinewidth\":0,\"ticks\":\"\"}}}],\"bar\":[{\"error_x\":{\"color\":\"#2a3f5f\"},\"error_y\":{\"color\":\"#2a3f5f\"},\"marker\":{\"line\":{\"color\":\"#E5ECF6\",\"width\":0.5},\"pattern\":{\"fillmode\":\"overlay\",\"size\":10,\"solidity\":0.2}},\"type\":\"bar\"}],\"scattergeo\":[{\"type\":\"scattergeo\",\"marker\":{\"colorbar\":{\"outlinewidth\":0,\"ticks\":\"\"}}}],\"scatterpolar\":[{\"type\":\"scatterpolar\",\"marker\":{\"colorbar\":{\"outlinewidth\":0,\"ticks\":\"\"}}}],\"histogram\":[{\"marker\":{\"pattern\":{\"fillmode\":\"overlay\",\"size\":10,\"solidity\":0.2}},\"type\":\"histogram\"}],\"scattergl\":[{\"type\":\"scattergl\",\"marker\":{\"colorbar\":{\"outlinewidth\":0,\"ticks\":\"\"}}}],\"scatter3d\":[{\"type\":\"scatter3d\",\"line\":{\"colorbar\":{\"outlinewidth\":0,\"ticks\":\"\"}},\"marker\":{\"colorbar\":{\"outlinewidth\":0,\"ticks\":\"\"}}}],\"scattermapbox\":[{\"type\":\"scattermapbox\",\"marker\":{\"colorbar\":{\"outlinewidth\":0,\"ticks\":\"\"}}}],\"scatterternary\":[{\"type\":\"scatterternary\",\"marker\":{\"colorbar\":{\"outlinewidth\":0,\"ticks\":\"\"}}}],\"scattercarpet\":[{\"type\":\"scattercarpet\",\"marker\":{\"colorbar\":{\"outlinewidth\":0,\"ticks\":\"\"}}}],\"carpet\":[{\"aaxis\":{\"endlinecolor\":\"#2a3f5f\",\"gridcolor\":\"white\",\"linecolor\":\"white\",\"minorgridcolor\":\"white\",\"startlinecolor\":\"#2a3f5f\"},\"baxis\":{\"endlinecolor\":\"#2a3f5f\",\"gridcolor\":\"white\",\"linecolor\":\"white\",\"minorgridcolor\":\"white\",\"startlinecolor\":\"#2a3f5f\"},\"type\":\"carpet\"}],\"table\":[{\"cells\":{\"fill\":{\"color\":\"#EBF0F8\"},\"line\":{\"color\":\"white\"}},\"header\":{\"fill\":{\"color\":\"#C8D4E3\"},\"line\":{\"color\":\"white\"}},\"type\":\"table\"}],\"barpolar\":[{\"marker\":{\"line\":{\"color\":\"#E5ECF6\",\"width\":0.5},\"pattern\":{\"fillmode\":\"overlay\",\"size\":10,\"solidity\":0.2}},\"type\":\"barpolar\"}],\"pie\":[{\"automargin\":true,\"type\":\"pie\"}]},\"layout\":{\"autotypenumbers\":\"strict\",\"colorway\":[\"#636efa\",\"#EF553B\",\"#00cc96\",\"#ab63fa\",\"#FFA15A\",\"#19d3f3\",\"#FF6692\",\"#B6E880\",\"#FF97FF\",\"#FECB52\"],\"font\":{\"color\":\"#2a3f5f\"},\"hovermode\":\"closest\",\"hoverlabel\":{\"align\":\"left\"},\"paper_bgcolor\":\"white\",\"plot_bgcolor\":\"#E5ECF6\",\"polar\":{\"bgcolor\":\"#E5ECF6\",\"angularaxis\":{\"gridcolor\":\"white\",\"linecolor\":\"white\",\"ticks\":\"\"},\"radialaxis\":{\"gridcolor\":\"white\",\"linecolor\":\"white\",\"ticks\":\"\"}},\"ternary\":{\"bgcolor\":\"#E5ECF6\",\"aaxis\":{\"gridcolor\":\"white\",\"linecolor\":\"white\",\"ticks\":\"\"},\"baxis\":{\"gridcolor\":\"white\",\"linecolor\":\"white\",\"ticks\":\"\"},\"caxis\":{\"gridcolor\":\"white\",\"linecolor\":\"white\",\"ticks\":\"\"}},\"coloraxis\":{\"colorbar\":{\"outlinewidth\":0,\"ticks\":\"\"}},\"colorscale\":{\"sequential\":[[0.0,\"#0d0887\"],[0.1111111111111111,\"#46039f\"],[0.2222222222222222,\"#7201a8\"],[0.3333333333333333,\"#9c179e\"],[0.4444444444444444,\"#bd3786\"],[0.5555555555555556,\"#d8576b\"],[0.6666666666666666,\"#ed7953\"],[0.7777777777777778,\"#fb9f3a\"],[0.8888888888888888,\"#fdca26\"],[1.0,\"#f0f921\"]],\"sequentialminus\":[[0.0,\"#0d0887\"],[0.1111111111111111,\"#46039f\"],[0.2222222222222222,\"#7201a8\"],[0.3333333333333333,\"#9c179e\"],[0.4444444444444444,\"#bd3786\"],[0.5555555555555556,\"#d8576b\"],[0.6666666666666666,\"#ed7953\"],[0.7777777777777778,\"#fb9f3a\"],[0.8888888888888888,\"#fdca26\"],[1.0,\"#f0f921\"]],\"diverging\":[[0,\"#8e0152\"],[0.1,\"#c51b7d\"],[0.2,\"#de77ae\"],[0.3,\"#f1b6da\"],[0.4,\"#fde0ef\"],[0.5,\"#f7f7f7\"],[0.6,\"#e6f5d0\"],[0.7,\"#b8e186\"],[0.8,\"#7fbc41\"],[0.9,\"#4d9221\"],[1,\"#276419\"]]},\"xaxis\":{\"gridcolor\":\"white\",\"linecolor\":\"white\",\"ticks\":\"\",\"title\":{\"standoff\":15},\"zerolinecolor\":\"white\",\"automargin\":true,\"zerolinewidth\":2},\"yaxis\":{\"gridcolor\":\"white\",\"linecolor\":\"white\",\"ticks\":\"\",\"title\":{\"standoff\":15},\"zerolinecolor\":\"white\",\"automargin\":true,\"zerolinewidth\":2},\"scene\":{\"xaxis\":{\"backgroundcolor\":\"#E5ECF6\",\"gridcolor\":\"white\",\"linecolor\":\"white\",\"showbackground\":true,\"ticks\":\"\",\"zerolinecolor\":\"white\",\"gridwidth\":2},\"yaxis\":{\"backgroundcolor\":\"#E5ECF6\",\"gridcolor\":\"white\",\"linecolor\":\"white\",\"showbackground\":true,\"ticks\":\"\",\"zerolinecolor\":\"white\",\"gridwidth\":2},\"zaxis\":{\"backgroundcolor\":\"#E5ECF6\",\"gridcolor\":\"white\",\"linecolor\":\"white\",\"showbackground\":true,\"ticks\":\"\",\"zerolinecolor\":\"white\",\"gridwidth\":2}},\"shapedefaults\":{\"line\":{\"color\":\"#2a3f5f\"}},\"annotationdefaults\":{\"arrowcolor\":\"#2a3f5f\",\"arrowhead\":0,\"arrowwidth\":1},\"geo\":{\"bgcolor\":\"white\",\"landcolor\":\"#E5ECF6\",\"subunitcolor\":\"white\",\"showland\":true,\"showlakes\":true,\"lakecolor\":\"white\"},\"title\":{\"x\":0.05},\"mapbox\":{\"style\":\"light\"}}},\"xaxis\":{\"anchor\":\"y\",\"domain\":[0.0,1.0],\"title\":{\"text\":\"Date\"}},\"yaxis\":{\"anchor\":\"x\",\"domain\":[0.0,1.0],\"title\":{\"text\":\"Total Sales Value\"}},\"legend\":{\"tracegroupgap\":0},\"title\":{\"text\":\"Daily Aggregated Sales Trend with Highlighted Weekends and Peak Days\"}},                        {\"responsive\": true}                    ).then(function(){\n",
              "                            \n",
              "var gd = document.getElementById('c1818018-77bd-4391-a233-ad866c1ced82');\n",
              "var x = new MutationObserver(function (mutations, observer) {{\n",
              "        var display = window.getComputedStyle(gd).display;\n",
              "        if (!display || display === 'none') {{\n",
              "            console.log([gd, 'removed!']);\n",
              "            Plotly.purge(gd);\n",
              "            observer.disconnect();\n",
              "        }}\n",
              "}});\n",
              "\n",
              "// Listen for the removal of the full notebook cells\n",
              "var notebookContainer = gd.closest('#notebook-container');\n",
              "if (notebookContainer) {{\n",
              "    x.observe(notebookContainer, {childList: true});\n",
              "}}\n",
              "\n",
              "// Listen for the clearing of the current output cell\n",
              "var outputEl = gd.closest('.output');\n",
              "if (outputEl) {{\n",
              "    x.observe(outputEl, {childList: true});\n",
              "}}\n",
              "\n",
              "                        })                };                            </script>        </div>\n",
              "</body>\n",
              "</html>"
            ]
          },
          "metadata": {}
        }
      ]
    },
    {
      "cell_type": "markdown",
      "source": [
        "## Merging of Data\n",
        "\n",
        "Combining the datasets allows us to analyze the relationships between customers, products, and transactions holistically.\n",
        "\n",
        "1. Merge `Transactions` Dataframe with `Products` Dataframe on `ProductID` to bring in product details.\n",
        "\n",
        "2. Merge the resulting dataset with `Customers` dataframe on `CustomerID` to include customer details.\n",
        "\n",
        "3. Validate the merge by checking the shape and sample rows.\n"
      ],
      "metadata": {
        "id": "5ZIOQCCHoetN"
      }
    },
    {
      "cell_type": "code",
      "source": [
        "transactions_products = transactions_df.merge(products_df, on='ProductID', how='inner')\n",
        "\n",
        "merged_data = transactions_products.merge(customers_df, on='CustomerID', how='inner')\n",
        "print(\"-\" * 50)\n",
        "\n",
        "print(\"\\nMerged Data Shape:\", merged_data.shape)\n",
        "\n",
        "print(\"-\" * 50)\n",
        "\n",
        "\n",
        "print(merged_data.head())\n",
        "\n",
        "print(\"-\" * 50)\n"
      ],
      "metadata": {
        "colab": {
          "base_uri": "https://localhost:8080/"
        },
        "id": "6XyvNoEMooK7",
        "outputId": "acba87cf-408c-4120-d598-0ce8621d64a8"
      },
      "execution_count": null,
      "outputs": [
        {
          "output_type": "stream",
          "name": "stdout",
          "text": [
            "--------------------------------------------------\n",
            "\n",
            "Merged Data Shape: (1000, 14)\n",
            "--------------------------------------------------\n",
            "  TransactionID CustomerID ProductID     TransactionDate  Quantity  \\\n",
            "0        T00001      C0199      P067 2024-08-25 12:38:23         1   \n",
            "1        T00112      C0146      P067 2024-05-27 22:23:54         1   \n",
            "2        T00166      C0127      P067 2024-04-25 07:38:55         1   \n",
            "3        T00272      C0087      P067 2024-03-26 22:55:37         2   \n",
            "4        T00363      C0070      P067 2024-03-21 15:10:10         3   \n",
            "\n",
            "   TotalValue  Price_x  ComputedValue                      ProductName  \\\n",
            "0      300.68   300.68         300.68  ComfortLiving Bluetooth Speaker   \n",
            "1      300.68   300.68         300.68  ComfortLiving Bluetooth Speaker   \n",
            "2      300.68   300.68         300.68  ComfortLiving Bluetooth Speaker   \n",
            "3      601.36   300.68         601.36  ComfortLiving Bluetooth Speaker   \n",
            "4      902.04   300.68         902.04  ComfortLiving Bluetooth Speaker   \n",
            "\n",
            "      Category  Price_y     CustomerName         Region SignupDate  \n",
            "0  Electronics   300.68   Andrea Jenkins         Europe 2022-12-03  \n",
            "1  Electronics   300.68  Brittany Harvey           Asia 2024-09-04  \n",
            "2  Electronics   300.68  Kathryn Stevens         Europe 2024-04-04  \n",
            "3  Electronics   300.68  Travis Campbell  South America 2024-04-11  \n",
            "4  Electronics   300.68    Timothy Perez         Europe 2022-03-15  \n",
            "--------------------------------------------------\n"
          ]
        }
      ]
    },
    {
      "cell_type": "code",
      "source": [
        "merged_data"
      ],
      "metadata": {
        "colab": {
          "base_uri": "https://localhost:8080/",
          "height": 704
        },
        "id": "jR5FG575rkRu",
        "outputId": "39c8e29f-1b7a-444d-f798-9966a237d1db"
      },
      "execution_count": null,
      "outputs": [
        {
          "output_type": "execute_result",
          "data": {
            "text/plain": [
              "    TransactionID CustomerID ProductID     TransactionDate  Quantity  \\\n",
              "0          T00001      C0199      P067 2024-08-25 12:38:23         1   \n",
              "1          T00112      C0146      P067 2024-05-27 22:23:54         1   \n",
              "2          T00166      C0127      P067 2024-04-25 07:38:55         1   \n",
              "3          T00272      C0087      P067 2024-03-26 22:55:37         2   \n",
              "4          T00363      C0070      P067 2024-03-21 15:10:10         3   \n",
              "..            ...        ...       ...                 ...       ...   \n",
              "995        T00496      C0118      P037 2024-10-24 08:30:27         1   \n",
              "996        T00759      C0059      P037 2024-06-04 02:15:24         3   \n",
              "997        T00922      C0018      P037 2024-04-05 13:05:32         4   \n",
              "998        T00959      C0115      P037 2024-09-29 10:16:02         2   \n",
              "999        T00992      C0024      P037 2024-04-21 10:52:24         1   \n",
              "\n",
              "     TotalValue  Price_x  ComputedValue                      ProductName  \\\n",
              "0        300.68   300.68         300.68  ComfortLiving Bluetooth Speaker   \n",
              "1        300.68   300.68         300.68  ComfortLiving Bluetooth Speaker   \n",
              "2        300.68   300.68         300.68  ComfortLiving Bluetooth Speaker   \n",
              "3        601.36   300.68         601.36  ComfortLiving Bluetooth Speaker   \n",
              "4        902.04   300.68         902.04  ComfortLiving Bluetooth Speaker   \n",
              "..          ...      ...            ...                              ...   \n",
              "995      459.86   459.86         459.86             SoundWave Smartwatch   \n",
              "996     1379.58   459.86        1379.58             SoundWave Smartwatch   \n",
              "997     1839.44   459.86        1839.44             SoundWave Smartwatch   \n",
              "998      919.72   459.86         919.72             SoundWave Smartwatch   \n",
              "999      459.86   459.86         459.86             SoundWave Smartwatch   \n",
              "\n",
              "        Category  Price_y          CustomerName         Region SignupDate  \n",
              "0    Electronics   300.68        Andrea Jenkins         Europe 2022-12-03  \n",
              "1    Electronics   300.68       Brittany Harvey           Asia 2024-09-04  \n",
              "2    Electronics   300.68       Kathryn Stevens         Europe 2024-04-04  \n",
              "3    Electronics   300.68       Travis Campbell  South America 2024-04-11  \n",
              "4    Electronics   300.68         Timothy Perez         Europe 2022-03-15  \n",
              "..           ...      ...                   ...            ...        ...  \n",
              "995  Electronics   459.86            Jacob Holt  South America 2022-01-22  \n",
              "996  Electronics   459.86  Mrs. Kimberly Wright  North America 2024-04-07  \n",
              "997  Electronics   459.86          Tyler Haynes  North America 2024-09-21  \n",
              "998  Electronics   459.86       Joshua Hamilton           Asia 2024-11-11  \n",
              "999  Electronics   459.86        Michele Cooley  North America 2024-02-05  \n",
              "\n",
              "[1000 rows x 14 columns]"
            ],
            "text/html": [
              "\n",
              "  <div id=\"df-c0b4365b-e752-4b51-9358-971d7b2e15a3\" class=\"colab-df-container\">\n",
              "    <div>\n",
              "<style scoped>\n",
              "    .dataframe tbody tr th:only-of-type {\n",
              "        vertical-align: middle;\n",
              "    }\n",
              "\n",
              "    .dataframe tbody tr th {\n",
              "        vertical-align: top;\n",
              "    }\n",
              "\n",
              "    .dataframe thead th {\n",
              "        text-align: right;\n",
              "    }\n",
              "</style>\n",
              "<table border=\"1\" class=\"dataframe\">\n",
              "  <thead>\n",
              "    <tr style=\"text-align: right;\">\n",
              "      <th></th>\n",
              "      <th>TransactionID</th>\n",
              "      <th>CustomerID</th>\n",
              "      <th>ProductID</th>\n",
              "      <th>TransactionDate</th>\n",
              "      <th>Quantity</th>\n",
              "      <th>TotalValue</th>\n",
              "      <th>Price_x</th>\n",
              "      <th>ComputedValue</th>\n",
              "      <th>ProductName</th>\n",
              "      <th>Category</th>\n",
              "      <th>Price_y</th>\n",
              "      <th>CustomerName</th>\n",
              "      <th>Region</th>\n",
              "      <th>SignupDate</th>\n",
              "    </tr>\n",
              "  </thead>\n",
              "  <tbody>\n",
              "    <tr>\n",
              "      <th>0</th>\n",
              "      <td>T00001</td>\n",
              "      <td>C0199</td>\n",
              "      <td>P067</td>\n",
              "      <td>2024-08-25 12:38:23</td>\n",
              "      <td>1</td>\n",
              "      <td>300.68</td>\n",
              "      <td>300.68</td>\n",
              "      <td>300.68</td>\n",
              "      <td>ComfortLiving Bluetooth Speaker</td>\n",
              "      <td>Electronics</td>\n",
              "      <td>300.68</td>\n",
              "      <td>Andrea Jenkins</td>\n",
              "      <td>Europe</td>\n",
              "      <td>2022-12-03</td>\n",
              "    </tr>\n",
              "    <tr>\n",
              "      <th>1</th>\n",
              "      <td>T00112</td>\n",
              "      <td>C0146</td>\n",
              "      <td>P067</td>\n",
              "      <td>2024-05-27 22:23:54</td>\n",
              "      <td>1</td>\n",
              "      <td>300.68</td>\n",
              "      <td>300.68</td>\n",
              "      <td>300.68</td>\n",
              "      <td>ComfortLiving Bluetooth Speaker</td>\n",
              "      <td>Electronics</td>\n",
              "      <td>300.68</td>\n",
              "      <td>Brittany Harvey</td>\n",
              "      <td>Asia</td>\n",
              "      <td>2024-09-04</td>\n",
              "    </tr>\n",
              "    <tr>\n",
              "      <th>2</th>\n",
              "      <td>T00166</td>\n",
              "      <td>C0127</td>\n",
              "      <td>P067</td>\n",
              "      <td>2024-04-25 07:38:55</td>\n",
              "      <td>1</td>\n",
              "      <td>300.68</td>\n",
              "      <td>300.68</td>\n",
              "      <td>300.68</td>\n",
              "      <td>ComfortLiving Bluetooth Speaker</td>\n",
              "      <td>Electronics</td>\n",
              "      <td>300.68</td>\n",
              "      <td>Kathryn Stevens</td>\n",
              "      <td>Europe</td>\n",
              "      <td>2024-04-04</td>\n",
              "    </tr>\n",
              "    <tr>\n",
              "      <th>3</th>\n",
              "      <td>T00272</td>\n",
              "      <td>C0087</td>\n",
              "      <td>P067</td>\n",
              "      <td>2024-03-26 22:55:37</td>\n",
              "      <td>2</td>\n",
              "      <td>601.36</td>\n",
              "      <td>300.68</td>\n",
              "      <td>601.36</td>\n",
              "      <td>ComfortLiving Bluetooth Speaker</td>\n",
              "      <td>Electronics</td>\n",
              "      <td>300.68</td>\n",
              "      <td>Travis Campbell</td>\n",
              "      <td>South America</td>\n",
              "      <td>2024-04-11</td>\n",
              "    </tr>\n",
              "    <tr>\n",
              "      <th>4</th>\n",
              "      <td>T00363</td>\n",
              "      <td>C0070</td>\n",
              "      <td>P067</td>\n",
              "      <td>2024-03-21 15:10:10</td>\n",
              "      <td>3</td>\n",
              "      <td>902.04</td>\n",
              "      <td>300.68</td>\n",
              "      <td>902.04</td>\n",
              "      <td>ComfortLiving Bluetooth Speaker</td>\n",
              "      <td>Electronics</td>\n",
              "      <td>300.68</td>\n",
              "      <td>Timothy Perez</td>\n",
              "      <td>Europe</td>\n",
              "      <td>2022-03-15</td>\n",
              "    </tr>\n",
              "    <tr>\n",
              "      <th>...</th>\n",
              "      <td>...</td>\n",
              "      <td>...</td>\n",
              "      <td>...</td>\n",
              "      <td>...</td>\n",
              "      <td>...</td>\n",
              "      <td>...</td>\n",
              "      <td>...</td>\n",
              "      <td>...</td>\n",
              "      <td>...</td>\n",
              "      <td>...</td>\n",
              "      <td>...</td>\n",
              "      <td>...</td>\n",
              "      <td>...</td>\n",
              "      <td>...</td>\n",
              "    </tr>\n",
              "    <tr>\n",
              "      <th>995</th>\n",
              "      <td>T00496</td>\n",
              "      <td>C0118</td>\n",
              "      <td>P037</td>\n",
              "      <td>2024-10-24 08:30:27</td>\n",
              "      <td>1</td>\n",
              "      <td>459.86</td>\n",
              "      <td>459.86</td>\n",
              "      <td>459.86</td>\n",
              "      <td>SoundWave Smartwatch</td>\n",
              "      <td>Electronics</td>\n",
              "      <td>459.86</td>\n",
              "      <td>Jacob Holt</td>\n",
              "      <td>South America</td>\n",
              "      <td>2022-01-22</td>\n",
              "    </tr>\n",
              "    <tr>\n",
              "      <th>996</th>\n",
              "      <td>T00759</td>\n",
              "      <td>C0059</td>\n",
              "      <td>P037</td>\n",
              "      <td>2024-06-04 02:15:24</td>\n",
              "      <td>3</td>\n",
              "      <td>1379.58</td>\n",
              "      <td>459.86</td>\n",
              "      <td>1379.58</td>\n",
              "      <td>SoundWave Smartwatch</td>\n",
              "      <td>Electronics</td>\n",
              "      <td>459.86</td>\n",
              "      <td>Mrs. Kimberly Wright</td>\n",
              "      <td>North America</td>\n",
              "      <td>2024-04-07</td>\n",
              "    </tr>\n",
              "    <tr>\n",
              "      <th>997</th>\n",
              "      <td>T00922</td>\n",
              "      <td>C0018</td>\n",
              "      <td>P037</td>\n",
              "      <td>2024-04-05 13:05:32</td>\n",
              "      <td>4</td>\n",
              "      <td>1839.44</td>\n",
              "      <td>459.86</td>\n",
              "      <td>1839.44</td>\n",
              "      <td>SoundWave Smartwatch</td>\n",
              "      <td>Electronics</td>\n",
              "      <td>459.86</td>\n",
              "      <td>Tyler Haynes</td>\n",
              "      <td>North America</td>\n",
              "      <td>2024-09-21</td>\n",
              "    </tr>\n",
              "    <tr>\n",
              "      <th>998</th>\n",
              "      <td>T00959</td>\n",
              "      <td>C0115</td>\n",
              "      <td>P037</td>\n",
              "      <td>2024-09-29 10:16:02</td>\n",
              "      <td>2</td>\n",
              "      <td>919.72</td>\n",
              "      <td>459.86</td>\n",
              "      <td>919.72</td>\n",
              "      <td>SoundWave Smartwatch</td>\n",
              "      <td>Electronics</td>\n",
              "      <td>459.86</td>\n",
              "      <td>Joshua Hamilton</td>\n",
              "      <td>Asia</td>\n",
              "      <td>2024-11-11</td>\n",
              "    </tr>\n",
              "    <tr>\n",
              "      <th>999</th>\n",
              "      <td>T00992</td>\n",
              "      <td>C0024</td>\n",
              "      <td>P037</td>\n",
              "      <td>2024-04-21 10:52:24</td>\n",
              "      <td>1</td>\n",
              "      <td>459.86</td>\n",
              "      <td>459.86</td>\n",
              "      <td>459.86</td>\n",
              "      <td>SoundWave Smartwatch</td>\n",
              "      <td>Electronics</td>\n",
              "      <td>459.86</td>\n",
              "      <td>Michele Cooley</td>\n",
              "      <td>North America</td>\n",
              "      <td>2024-02-05</td>\n",
              "    </tr>\n",
              "  </tbody>\n",
              "</table>\n",
              "<p>1000 rows × 14 columns</p>\n",
              "</div>\n",
              "    <div class=\"colab-df-buttons\">\n",
              "\n",
              "  <div class=\"colab-df-container\">\n",
              "    <button class=\"colab-df-convert\" onclick=\"convertToInteractive('df-c0b4365b-e752-4b51-9358-971d7b2e15a3')\"\n",
              "            title=\"Convert this dataframe to an interactive table.\"\n",
              "            style=\"display:none;\">\n",
              "\n",
              "  <svg xmlns=\"http://www.w3.org/2000/svg\" height=\"24px\" viewBox=\"0 -960 960 960\">\n",
              "    <path d=\"M120-120v-720h720v720H120Zm60-500h600v-160H180v160Zm220 220h160v-160H400v160Zm0 220h160v-160H400v160ZM180-400h160v-160H180v160Zm440 0h160v-160H620v160ZM180-180h160v-160H180v160Zm440 0h160v-160H620v160Z\"/>\n",
              "  </svg>\n",
              "    </button>\n",
              "\n",
              "  <style>\n",
              "    .colab-df-container {\n",
              "      display:flex;\n",
              "      gap: 12px;\n",
              "    }\n",
              "\n",
              "    .colab-df-convert {\n",
              "      background-color: #E8F0FE;\n",
              "      border: none;\n",
              "      border-radius: 50%;\n",
              "      cursor: pointer;\n",
              "      display: none;\n",
              "      fill: #1967D2;\n",
              "      height: 32px;\n",
              "      padding: 0 0 0 0;\n",
              "      width: 32px;\n",
              "    }\n",
              "\n",
              "    .colab-df-convert:hover {\n",
              "      background-color: #E2EBFA;\n",
              "      box-shadow: 0px 1px 2px rgba(60, 64, 67, 0.3), 0px 1px 3px 1px rgba(60, 64, 67, 0.15);\n",
              "      fill: #174EA6;\n",
              "    }\n",
              "\n",
              "    .colab-df-buttons div {\n",
              "      margin-bottom: 4px;\n",
              "    }\n",
              "\n",
              "    [theme=dark] .colab-df-convert {\n",
              "      background-color: #3B4455;\n",
              "      fill: #D2E3FC;\n",
              "    }\n",
              "\n",
              "    [theme=dark] .colab-df-convert:hover {\n",
              "      background-color: #434B5C;\n",
              "      box-shadow: 0px 1px 3px 1px rgba(0, 0, 0, 0.15);\n",
              "      filter: drop-shadow(0px 1px 2px rgba(0, 0, 0, 0.3));\n",
              "      fill: #FFFFFF;\n",
              "    }\n",
              "  </style>\n",
              "\n",
              "    <script>\n",
              "      const buttonEl =\n",
              "        document.querySelector('#df-c0b4365b-e752-4b51-9358-971d7b2e15a3 button.colab-df-convert');\n",
              "      buttonEl.style.display =\n",
              "        google.colab.kernel.accessAllowed ? 'block' : 'none';\n",
              "\n",
              "      async function convertToInteractive(key) {\n",
              "        const element = document.querySelector('#df-c0b4365b-e752-4b51-9358-971d7b2e15a3');\n",
              "        const dataTable =\n",
              "          await google.colab.kernel.invokeFunction('convertToInteractive',\n",
              "                                                    [key], {});\n",
              "        if (!dataTable) return;\n",
              "\n",
              "        const docLinkHtml = 'Like what you see? Visit the ' +\n",
              "          '<a target=\"_blank\" href=https://colab.research.google.com/notebooks/data_table.ipynb>data table notebook</a>'\n",
              "          + ' to learn more about interactive tables.';\n",
              "        element.innerHTML = '';\n",
              "        dataTable['output_type'] = 'display_data';\n",
              "        await google.colab.output.renderOutput(dataTable, element);\n",
              "        const docLink = document.createElement('div');\n",
              "        docLink.innerHTML = docLinkHtml;\n",
              "        element.appendChild(docLink);\n",
              "      }\n",
              "    </script>\n",
              "  </div>\n",
              "\n",
              "\n",
              "<div id=\"df-396dc070-c25d-4c55-af80-81ab795640a5\">\n",
              "  <button class=\"colab-df-quickchart\" onclick=\"quickchart('df-396dc070-c25d-4c55-af80-81ab795640a5')\"\n",
              "            title=\"Suggest charts\"\n",
              "            style=\"display:none;\">\n",
              "\n",
              "<svg xmlns=\"http://www.w3.org/2000/svg\" height=\"24px\"viewBox=\"0 0 24 24\"\n",
              "     width=\"24px\">\n",
              "    <g>\n",
              "        <path d=\"M19 3H5c-1.1 0-2 .9-2 2v14c0 1.1.9 2 2 2h14c1.1 0 2-.9 2-2V5c0-1.1-.9-2-2-2zM9 17H7v-7h2v7zm4 0h-2V7h2v10zm4 0h-2v-4h2v4z\"/>\n",
              "    </g>\n",
              "</svg>\n",
              "  </button>\n",
              "\n",
              "<style>\n",
              "  .colab-df-quickchart {\n",
              "      --bg-color: #E8F0FE;\n",
              "      --fill-color: #1967D2;\n",
              "      --hover-bg-color: #E2EBFA;\n",
              "      --hover-fill-color: #174EA6;\n",
              "      --disabled-fill-color: #AAA;\n",
              "      --disabled-bg-color: #DDD;\n",
              "  }\n",
              "\n",
              "  [theme=dark] .colab-df-quickchart {\n",
              "      --bg-color: #3B4455;\n",
              "      --fill-color: #D2E3FC;\n",
              "      --hover-bg-color: #434B5C;\n",
              "      --hover-fill-color: #FFFFFF;\n",
              "      --disabled-bg-color: #3B4455;\n",
              "      --disabled-fill-color: #666;\n",
              "  }\n",
              "\n",
              "  .colab-df-quickchart {\n",
              "    background-color: var(--bg-color);\n",
              "    border: none;\n",
              "    border-radius: 50%;\n",
              "    cursor: pointer;\n",
              "    display: none;\n",
              "    fill: var(--fill-color);\n",
              "    height: 32px;\n",
              "    padding: 0;\n",
              "    width: 32px;\n",
              "  }\n",
              "\n",
              "  .colab-df-quickchart:hover {\n",
              "    background-color: var(--hover-bg-color);\n",
              "    box-shadow: 0 1px 2px rgba(60, 64, 67, 0.3), 0 1px 3px 1px rgba(60, 64, 67, 0.15);\n",
              "    fill: var(--button-hover-fill-color);\n",
              "  }\n",
              "\n",
              "  .colab-df-quickchart-complete:disabled,\n",
              "  .colab-df-quickchart-complete:disabled:hover {\n",
              "    background-color: var(--disabled-bg-color);\n",
              "    fill: var(--disabled-fill-color);\n",
              "    box-shadow: none;\n",
              "  }\n",
              "\n",
              "  .colab-df-spinner {\n",
              "    border: 2px solid var(--fill-color);\n",
              "    border-color: transparent;\n",
              "    border-bottom-color: var(--fill-color);\n",
              "    animation:\n",
              "      spin 1s steps(1) infinite;\n",
              "  }\n",
              "\n",
              "  @keyframes spin {\n",
              "    0% {\n",
              "      border-color: transparent;\n",
              "      border-bottom-color: var(--fill-color);\n",
              "      border-left-color: var(--fill-color);\n",
              "    }\n",
              "    20% {\n",
              "      border-color: transparent;\n",
              "      border-left-color: var(--fill-color);\n",
              "      border-top-color: var(--fill-color);\n",
              "    }\n",
              "    30% {\n",
              "      border-color: transparent;\n",
              "      border-left-color: var(--fill-color);\n",
              "      border-top-color: var(--fill-color);\n",
              "      border-right-color: var(--fill-color);\n",
              "    }\n",
              "    40% {\n",
              "      border-color: transparent;\n",
              "      border-right-color: var(--fill-color);\n",
              "      border-top-color: var(--fill-color);\n",
              "    }\n",
              "    60% {\n",
              "      border-color: transparent;\n",
              "      border-right-color: var(--fill-color);\n",
              "    }\n",
              "    80% {\n",
              "      border-color: transparent;\n",
              "      border-right-color: var(--fill-color);\n",
              "      border-bottom-color: var(--fill-color);\n",
              "    }\n",
              "    90% {\n",
              "      border-color: transparent;\n",
              "      border-bottom-color: var(--fill-color);\n",
              "    }\n",
              "  }\n",
              "</style>\n",
              "\n",
              "  <script>\n",
              "    async function quickchart(key) {\n",
              "      const quickchartButtonEl =\n",
              "        document.querySelector('#' + key + ' button');\n",
              "      quickchartButtonEl.disabled = true;  // To prevent multiple clicks.\n",
              "      quickchartButtonEl.classList.add('colab-df-spinner');\n",
              "      try {\n",
              "        const charts = await google.colab.kernel.invokeFunction(\n",
              "            'suggestCharts', [key], {});\n",
              "      } catch (error) {\n",
              "        console.error('Error during call to suggestCharts:', error);\n",
              "      }\n",
              "      quickchartButtonEl.classList.remove('colab-df-spinner');\n",
              "      quickchartButtonEl.classList.add('colab-df-quickchart-complete');\n",
              "    }\n",
              "    (() => {\n",
              "      let quickchartButtonEl =\n",
              "        document.querySelector('#df-396dc070-c25d-4c55-af80-81ab795640a5 button');\n",
              "      quickchartButtonEl.style.display =\n",
              "        google.colab.kernel.accessAllowed ? 'block' : 'none';\n",
              "    })();\n",
              "  </script>\n",
              "</div>\n",
              "\n",
              "  <div id=\"id_5e3aa3ce-232b-4847-92a0-61e91a2e9415\">\n",
              "    <style>\n",
              "      .colab-df-generate {\n",
              "        background-color: #E8F0FE;\n",
              "        border: none;\n",
              "        border-radius: 50%;\n",
              "        cursor: pointer;\n",
              "        display: none;\n",
              "        fill: #1967D2;\n",
              "        height: 32px;\n",
              "        padding: 0 0 0 0;\n",
              "        width: 32px;\n",
              "      }\n",
              "\n",
              "      .colab-df-generate:hover {\n",
              "        background-color: #E2EBFA;\n",
              "        box-shadow: 0px 1px 2px rgba(60, 64, 67, 0.3), 0px 1px 3px 1px rgba(60, 64, 67, 0.15);\n",
              "        fill: #174EA6;\n",
              "      }\n",
              "\n",
              "      [theme=dark] .colab-df-generate {\n",
              "        background-color: #3B4455;\n",
              "        fill: #D2E3FC;\n",
              "      }\n",
              "\n",
              "      [theme=dark] .colab-df-generate:hover {\n",
              "        background-color: #434B5C;\n",
              "        box-shadow: 0px 1px 3px 1px rgba(0, 0, 0, 0.15);\n",
              "        filter: drop-shadow(0px 1px 2px rgba(0, 0, 0, 0.3));\n",
              "        fill: #FFFFFF;\n",
              "      }\n",
              "    </style>\n",
              "    <button class=\"colab-df-generate\" onclick=\"generateWithVariable('merged_data')\"\n",
              "            title=\"Generate code using this dataframe.\"\n",
              "            style=\"display:none;\">\n",
              "\n",
              "  <svg xmlns=\"http://www.w3.org/2000/svg\" height=\"24px\"viewBox=\"0 0 24 24\"\n",
              "       width=\"24px\">\n",
              "    <path d=\"M7,19H8.4L18.45,9,17,7.55,7,17.6ZM5,21V16.75L18.45,3.32a2,2,0,0,1,2.83,0l1.4,1.43a1.91,1.91,0,0,1,.58,1.4,1.91,1.91,0,0,1-.58,1.4L9.25,21ZM18.45,9,17,7.55Zm-12,3A5.31,5.31,0,0,0,4.9,8.1,5.31,5.31,0,0,0,1,6.5,5.31,5.31,0,0,0,4.9,4.9,5.31,5.31,0,0,0,6.5,1,5.31,5.31,0,0,0,8.1,4.9,5.31,5.31,0,0,0,12,6.5,5.46,5.46,0,0,0,6.5,12Z\"/>\n",
              "  </svg>\n",
              "    </button>\n",
              "    <script>\n",
              "      (() => {\n",
              "      const buttonEl =\n",
              "        document.querySelector('#id_5e3aa3ce-232b-4847-92a0-61e91a2e9415 button.colab-df-generate');\n",
              "      buttonEl.style.display =\n",
              "        google.colab.kernel.accessAllowed ? 'block' : 'none';\n",
              "\n",
              "      buttonEl.onclick = () => {\n",
              "        google.colab.notebook.generateWithVariable('merged_data');\n",
              "      }\n",
              "      })();\n",
              "    </script>\n",
              "  </div>\n",
              "\n",
              "    </div>\n",
              "  </div>\n"
            ],
            "application/vnd.google.colaboratory.intrinsic+json": {
              "type": "dataframe",
              "variable_name": "merged_data",
              "summary": "{\n  \"name\": \"merged_data\",\n  \"rows\": 1000,\n  \"fields\": [\n    {\n      \"column\": \"TransactionID\",\n      \"properties\": {\n        \"dtype\": \"string\",\n        \"num_unique_values\": 1000,\n        \"samples\": [\n          \"T00677\",\n          \"T00790\",\n          \"T00907\"\n        ],\n        \"semantic_type\": \"\",\n        \"description\": \"\"\n      }\n    },\n    {\n      \"column\": \"CustomerID\",\n      \"properties\": {\n        \"dtype\": \"category\",\n        \"num_unique_values\": 199,\n        \"samples\": [\n          \"C0135\",\n          \"C0109\",\n          \"C0048\"\n        ],\n        \"semantic_type\": \"\",\n        \"description\": \"\"\n      }\n    },\n    {\n      \"column\": \"ProductID\",\n      \"properties\": {\n        \"dtype\": \"category\",\n        \"num_unique_values\": 100,\n        \"samples\": [\n          \"P082\",\n          \"P052\",\n          \"P035\"\n        ],\n        \"semantic_type\": \"\",\n        \"description\": \"\"\n      }\n    },\n    {\n      \"column\": \"TransactionDate\",\n      \"properties\": {\n        \"dtype\": \"date\",\n        \"min\": \"2023-12-30 15:29:12\",\n        \"max\": \"2024-12-28 11:00:00\",\n        \"num_unique_values\": 1000,\n        \"samples\": [\n          \"2024-03-05 23:39:40\",\n          \"2024-08-13 23:52:47\",\n          \"2024-02-15 17:18:56\"\n        ],\n        \"semantic_type\": \"\",\n        \"description\": \"\"\n      }\n    },\n    {\n      \"column\": \"Quantity\",\n      \"properties\": {\n        \"dtype\": \"number\",\n        \"std\": 1,\n        \"min\": 1,\n        \"max\": 4,\n        \"num_unique_values\": 4,\n        \"samples\": [\n          2,\n          4,\n          1\n        ],\n        \"semantic_type\": \"\",\n        \"description\": \"\"\n      }\n    },\n    {\n      \"column\": \"TotalValue\",\n      \"properties\": {\n        \"dtype\": \"number\",\n        \"std\": 493.14447754793144,\n        \"min\": 16.08,\n        \"max\": 1991.04,\n        \"num_unique_values\": 369,\n        \"samples\": [\n          1789.36,\n          681.78,\n          580.34\n        ],\n        \"semantic_type\": \"\",\n        \"description\": \"\"\n      }\n    },\n    {\n      \"column\": \"Price_x\",\n      \"properties\": {\n        \"dtype\": \"number\",\n        \"std\": 140.73638962578207,\n        \"min\": 16.08,\n        \"max\": 497.76,\n        \"num_unique_values\": 100,\n        \"samples\": [\n          55.99,\n          354.81,\n          30.59\n        ],\n        \"semantic_type\": \"\",\n        \"description\": \"\"\n      }\n    },\n    {\n      \"column\": \"ComputedValue\",\n      \"properties\": {\n        \"dtype\": \"number\",\n        \"std\": 493.14447754793144,\n        \"min\": 16.08,\n        \"max\": 1991.04,\n        \"num_unique_values\": 369,\n        \"samples\": [\n          1789.36,\n          681.78,\n          580.34\n        ],\n        \"semantic_type\": \"\",\n        \"description\": \"\"\n      }\n    },\n    {\n      \"column\": \"ProductName\",\n      \"properties\": {\n        \"dtype\": \"category\",\n        \"num_unique_values\": 66,\n        \"samples\": [\n          \"ActiveWear Jacket\",\n          \"BookWorld Bluetooth Speaker\",\n          \"ComfortLiving Bluetooth Speaker\"\n        ],\n        \"semantic_type\": \"\",\n        \"description\": \"\"\n      }\n    },\n    {\n      \"column\": \"Category\",\n      \"properties\": {\n        \"dtype\": \"category\",\n        \"num_unique_values\": 4,\n        \"samples\": [\n          \"Clothing\",\n          \"Home Decor\",\n          \"Electronics\"\n        ],\n        \"semantic_type\": \"\",\n        \"description\": \"\"\n      }\n    },\n    {\n      \"column\": \"Price_y\",\n      \"properties\": {\n        \"dtype\": \"number\",\n        \"std\": 140.73638962578207,\n        \"min\": 16.08,\n        \"max\": 497.76,\n        \"num_unique_values\": 100,\n        \"samples\": [\n          55.99,\n          354.81,\n          30.59\n        ],\n        \"semantic_type\": \"\",\n        \"description\": \"\"\n      }\n    },\n    {\n      \"column\": \"CustomerName\",\n      \"properties\": {\n        \"dtype\": \"category\",\n        \"num_unique_values\": 199,\n        \"samples\": [\n          \"Toni Weaver\",\n          \"Abigail Jones\",\n          \"Matthew Park\"\n        ],\n        \"semantic_type\": \"\",\n        \"description\": \"\"\n      }\n    },\n    {\n      \"column\": \"Region\",\n      \"properties\": {\n        \"dtype\": \"category\",\n        \"num_unique_values\": 4,\n        \"samples\": [\n          \"Asia\",\n          \"North America\",\n          \"Europe\"\n        ],\n        \"semantic_type\": \"\",\n        \"description\": \"\"\n      }\n    },\n    {\n      \"column\": \"SignupDate\",\n      \"properties\": {\n        \"dtype\": \"date\",\n        \"min\": \"2022-01-22 00:00:00\",\n        \"max\": \"2024-12-28 00:00:00\",\n        \"num_unique_values\": 178,\n        \"samples\": [\n          \"2023-06-11 00:00:00\",\n          \"2023-09-27 00:00:00\",\n          \"2022-02-10 00:00:00\"\n        ],\n        \"semantic_type\": \"\",\n        \"description\": \"\"\n      }\n    }\n  ]\n}"
            }
          },
          "metadata": {},
          "execution_count": 65
        }
      ]
    },
    {
      "cell_type": "markdown",
      "source": [
        "#### Removing Redundent Columns\n",
        "\n"
      ],
      "metadata": {
        "id": "Xmipv19kr5EV"
      }
    },
    {
      "cell_type": "code",
      "source": [
        "print(\"Column Names in Merged Dataset:\")\n",
        "print(merged_data.columns)"
      ],
      "metadata": {
        "colab": {
          "base_uri": "https://localhost:8080/"
        },
        "id": "qauw9Pizr4ZP",
        "outputId": "30bee267-71d8-48d6-922e-7a37606730aa"
      },
      "execution_count": null,
      "outputs": [
        {
          "output_type": "stream",
          "name": "stdout",
          "text": [
            "Column Names in Merged Dataset:\n",
            "Index(['TransactionID', 'CustomerID', 'ProductID', 'TransactionDate',\n",
            "       'Quantity', 'TotalValue', 'Price_x', 'ComputedValue', 'ProductName',\n",
            "       'Category', 'Price_y', 'CustomerName', 'Region', 'SignupDate'],\n",
            "      dtype='object')\n"
          ]
        }
      ]
    },
    {
      "cell_type": "code",
      "source": [],
      "metadata": {
        "id": "-ttnCXJ3sQKI"
      },
      "execution_count": null,
      "outputs": []
    },
    {
      "cell_type": "markdown",
      "source": [
        "#### Handling Missing Values Post-Merge\n",
        "\n",
        "\n",
        "Some rows might have missing data after the merge due to mismatches in `ProductID` or `CustomerID`"
      ],
      "metadata": {
        "id": "3Lpjzp0ZqwFW"
      }
    },
    {
      "cell_type": "code",
      "source": [],
      "metadata": {
        "id": "FAgVDGTCrfFd"
      },
      "execution_count": null,
      "outputs": []
    }
  ]
}